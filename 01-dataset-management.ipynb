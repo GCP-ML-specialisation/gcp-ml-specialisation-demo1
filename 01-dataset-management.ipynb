{
 "cells": [
  {
   "cell_type": "markdown",
   "id": "e8ba7f4f",
   "metadata": {},
   "source": [
    "## Data Analysis and Preparation"
   ]
  },
  {
   "cell_type": "markdown",
   "id": "b25967c9",
   "metadata": {},
   "source": [
    "### Import libraries"
   ]
  },
  {
   "cell_type": "code",
   "execution_count": 2,
   "id": "fa2cf3f1",
   "metadata": {},
   "outputs": [
    {
     "name": "stdout",
     "output_type": "stream",
     "text": [
      "WARNING:tensorflow:From c:\\Users\\MANSM\\Demo\\GCPML-ChicagoTaxi\\.venv\\lib\\site-packages\\tfx_bsl\\types\\common_types.py:26: The name tf.SparseTensorValue is deprecated. Please use tf.compat.v1.SparseTensorValue instead.\n",
      "\n",
      "WARNING:tensorflow:From c:\\Users\\MANSM\\Demo\\GCPML-ChicagoTaxi\\.venv\\lib\\site-packages\\tfx_bsl\\types\\common_types.py:27: The name tf.ragged.RaggedTensorValue is deprecated. Please use tf.compat.v1.ragged.RaggedTensorValue instead.\n",
      "\n"
     ]
    }
   ],
   "source": [
    "import os\n",
    "import pandas as pd\n",
    "import tensorflow as tf\n",
    "import tensorflow_data_validation as tfdv\n",
    "from google.cloud import bigquery\n",
    "import matplotlib.pyplot as plt\n",
    "\n",
    "from google.cloud import aiplatform as vertex_ai"
   ]
  },
  {
   "cell_type": "code",
   "execution_count": 2,
   "id": "824eb949",
   "metadata": {},
   "outputs": [],
   "source": [
    "import yaml\n",
    "\n",
    "# Load YAML configuration file\n",
    "with open('config.yaml', 'r') as file:\n",
    "    config = yaml.safe_load(file)"
   ]
  },
  {
   "cell_type": "markdown",
   "id": "9bd0ee37",
   "metadata": {},
   "source": [
    "### Configurations"
   ]
  },
  {
   "cell_type": "code",
   "execution_count": 3,
   "id": "c7e4712e",
   "metadata": {},
   "outputs": [],
   "source": [
    "PROJECT = config['project']\n",
    "REGION = config['region']\n",
    "\n",
    "BQ_DATASET_NAME = config['bq_dataset_name']\n",
    "BQ_TABLE_NAME = config['bq_table_name']\n",
    "BQ_LOCATION = config['bq_location']\n",
    "\n",
    "DATASET_DISPLAY_NAME = config['dataset_display_name']\n",
    "\n",
    "RAW_SCHEMA_DIR = config['raw_schema_dir']"
   ]
  },
  {
   "cell_type": "markdown",
   "id": "39395512",
   "metadata": {},
   "source": [
    "## EDA"
   ]
  },
  {
   "cell_type": "code",
   "execution_count": 5,
   "id": "e7008360",
   "metadata": {},
   "outputs": [],
   "source": [
    "%load_ext google.cloud.bigquery"
   ]
  },
  {
   "cell_type": "code",
   "execution_count": 6,
   "id": "76f88106",
   "metadata": {},
   "outputs": [
    {
     "name": "stderr",
     "output_type": "stream",
     "text": [
      "c:\\Users\\MANSM\\Demo\\GCPML-ChicagoTaxi\\.venv\\lib\\site-packages\\google\\cloud\\bigquery\\table.py:2309: UserWarning: Unable to represent RANGE schema as struct using pandas ArrowDtype. Using `object` instead. To use ArrowDtype, use pandas >= 1.5 and pyarrow >= 10.0.1.\n",
      "  warnings.warn(_RANGE_PYARROW_WARNING)\n",
      "c:\\Users\\MANSM\\Demo\\GCPML-ChicagoTaxi\\.venv\\lib\\site-packages\\google\\cloud\\bigquery\\table.py:2323: UserWarning: Unable to represent RANGE schema as struct using pandas ArrowDtype. Using `object` instead. To use ArrowDtype, use pandas >= 1.5 and pyarrow >= 10.0.1.\n",
      "  warnings.warn(_RANGE_PYARROW_WARNING)\n",
      "c:\\Users\\MANSM\\Demo\\GCPML-ChicagoTaxi\\.venv\\lib\\site-packages\\google\\cloud\\bigquery\\table.py:2337: UserWarning: Unable to represent RANGE schema as struct using pandas ArrowDtype. Using `object` instead. To use ArrowDtype, use pandas >= 1.5 and pyarrow >= 10.0.1.\n",
      "  warnings.warn(_RANGE_PYARROW_WARNING)\n"
     ]
    }
   ],
   "source": [
    "# Run the BigQuery query\n",
    "from google.cloud import bigquery\n",
    "\n",
    "client = bigquery.Client()\n",
    "\n",
    "query = \"\"\"\n",
    "SELECT \n",
    "    CAST(EXTRACT(DAYOFWEEK FROM trip_start_timestamp) AS string) AS trip_dayofweek, \n",
    "    FORMAT_DATE('%A', CAST(trip_start_timestamp AS DATE)) AS trip_dayname,\n",
    "    COUNT(*) AS trip_count\n",
    "FROM `pa-poc-mlspec-1.chicago_taxi_trips.taxi_trips`\n",
    "WHERE EXTRACT(YEAR FROM trip_start_timestamp) = 2015 \n",
    "GROUP BY trip_dayofweek, trip_dayname\n",
    "ORDER BY trip_dayofweek\n",
    "\"\"\"\n",
    "\n",
    "# Run the query and convert to a pandas DataFrame\n",
    "df = client.query(query).to_dataframe()\n"
   ]
  },
  {
   "cell_type": "code",
   "execution_count": 7,
   "id": "a7f2447e",
   "metadata": {},
   "outputs": [
    {
     "data": {
      "text/plain": [
       "<Axes: xlabel='trip_dayname'>"
      ]
     },
     "execution_count": 7,
     "metadata": {},
     "output_type": "execute_result"
    },
    {
     "data": {
      "image/png": "[encoded data removed]",
      "text/plain": [
       "<Figure size 640x480 with 1 Axes>"
      ]
     },
     "metadata": {},
     "output_type": "display_data"
    }
   ],
   "source": [
    "df.plot(kind='bar', x='trip_dayname', y='trip_count')"
   ]
  },
  {
   "cell_type": "markdown",
   "id": "7987d132",
   "metadata": {},
   "source": [
    "### Create destination BigQuery dataset"
   ]
  },
  {
   "cell_type": "code",
   "execution_count": 8,
   "id": "56a7f6d6",
   "metadata": {},
   "outputs": [
    {
     "name": "stdout",
     "output_type": "stream",
     "text": [
      "BigQuery error in mk operation: Dataset 'pa-poc-mlspec-1:playground' already\n",
      "exists.\n"
     ]
    }
   ],
   "source": [
    "!bq --location=$BQ_LOCATION mk -d \\\n",
    "$PROJECT:$BQ_DATASET_NAME"
   ]
  },
  {
   "cell_type": "code",
   "execution_count": 9,
   "id": "832f99ba",
   "metadata": {},
   "outputs": [],
   "source": [
    "sample_size = 1000000\n",
    "year = 2020\n",
    "sql_script = config[\"sql_script\"]"
   ]
  },
  {
   "cell_type": "code",
   "execution_count": 11,
   "id": "6f1d2837",
   "metadata": {},
   "outputs": [],
   "source": [
    "sql_script = sql_script.replace(\n",
    "    '@PROJECT', PROJECT).replace(\n",
    "    '@DATASET', BQ_DATASET_NAME).replace(\n",
    "    '@TABLE', BQ_TABLE_NAME).replace(\n",
    "    '@YEAR', str(year)).replace(\n",
    "    '@LIMIT', str(sample_size))"
   ]
  },
  {
   "cell_type": "code",
   "execution_count": 12,
   "id": "88f31e8c",
   "metadata": {},
   "outputs": [],
   "source": [
    "bq_client = bigquery.Client(project=PROJECT, location=BQ_LOCATION)\n",
    "job = bq_client.query(sql_script)\n",
    "_ = job.result()"
   ]
  },
  {
   "cell_type": "code",
   "execution_count": 18,
   "id": "b32eea6f",
   "metadata": {},
   "outputs": [
    {
     "data": {
      "application/vnd.jupyter.widget-view+json": {
       "model_id": "f20497e6da14496d91e3f14007d5300c",
       "version_major": 2,
       "version_minor": 0
      },
      "text/plain": [
       "Query is running:   0%|          |"
      ]
     },
     "metadata": {},
     "output_type": "display_data"
    },
    {
     "name": "stderr",
     "output_type": "stream",
     "text": [
      "c:\\Users\\MANSM\\Demo\\GCPML-ChicagoTaxi\\.venv\\lib\\site-packages\\google\\cloud\\bigquery\\table.py:2309: UserWarning: Unable to represent RANGE schema as struct using pandas ArrowDtype. Using `object` instead. To use ArrowDtype, use pandas >= 1.5 and pyarrow >= 10.0.1.\n",
      "  warnings.warn(_RANGE_PYARROW_WARNING)\n",
      "c:\\Users\\MANSM\\Demo\\GCPML-ChicagoTaxi\\.venv\\lib\\site-packages\\google\\cloud\\bigquery\\table.py:2323: UserWarning: Unable to represent RANGE schema as struct using pandas ArrowDtype. Using `object` instead. To use ArrowDtype, use pandas >= 1.5 and pyarrow >= 10.0.1.\n",
      "  warnings.warn(_RANGE_PYARROW_WARNING)\n",
      "c:\\Users\\MANSM\\Demo\\GCPML-ChicagoTaxi\\.venv\\lib\\site-packages\\google\\cloud\\bigquery\\table.py:2337: UserWarning: Unable to represent RANGE schema as struct using pandas ArrowDtype. Using `object` instead. To use ArrowDtype, use pandas >= 1.5 and pyarrow >= 10.0.1.\n",
      "  warnings.warn(_RANGE_PYARROW_WARNING)\n"
     ]
    },
    {
     "data": {
      "application/vnd.jupyter.widget-view+json": {
       "model_id": "1aefe362137446eaa027979db2c5bf2f",
       "version_major": 2,
       "version_minor": 0
      },
      "text/plain": [
       "Downloading:   0%|          |"
      ]
     },
     "metadata": {},
     "output_type": "display_data"
    },
    {
     "data": {
      "text/html": [
       "<div>\n",
       "<style scoped>\n",
       "    .dataframe tbody tr th:only-of-type {\n",
       "        vertical-align: middle;\n",
       "    }\n",
       "\n",
       "    .dataframe tbody tr th {\n",
       "        vertical-align: top;\n",
       "    }\n",
       "\n",
       "    .dataframe thead th {\n",
       "        text-align: right;\n",
       "    }\n",
       "</style>\n",
       "<table border=\"1\" class=\"dataframe\">\n",
       "  <thead>\n",
       "    <tr style=\"text-align: right;\">\n",
       "      <th></th>\n",
       "      <th>dropoff_community_area</th>\n",
       "      <th>community_name</th>\n",
       "      <th>total_arrests</th>\n",
       "    </tr>\n",
       "  </thead>\n",
       "  <tbody>\n",
       "    <tr>\n",
       "      <th>0</th>\n",
       "      <td>24</td>\n",
       "      <td>West Town</td>\n",
       "      <td>171118392</td>\n",
       "    </tr>\n",
       "    <tr>\n",
       "      <th>1</th>\n",
       "      <td>51</td>\n",
       "      <td>South Deering</td>\n",
       "      <td>2233401</td>\n",
       "    </tr>\n",
       "    <tr>\n",
       "      <th>2</th>\n",
       "      <td>76</td>\n",
       "      <td>O'Hare</td>\n",
       "      <td>30021435</td>\n",
       "    </tr>\n",
       "    <tr>\n",
       "      <th>3</th>\n",
       "      <td>28</td>\n",
       "      <td>Near West Side</td>\n",
       "      <td>746036100</td>\n",
       "    </tr>\n",
       "    <tr>\n",
       "      <th>4</th>\n",
       "      <td>33</td>\n",
       "      <td>Near South Side</td>\n",
       "      <td>47299142</td>\n",
       "    </tr>\n",
       "    <tr>\n",
       "      <th>...</th>\n",
       "      <td>...</td>\n",
       "      <td>...</td>\n",
       "      <td>...</td>\n",
       "    </tr>\n",
       "    <tr>\n",
       "      <th>73</th>\n",
       "      <td>57</td>\n",
       "      <td>Archer Heights</td>\n",
       "      <td>265490</td>\n",
       "    </tr>\n",
       "    <tr>\n",
       "      <th>74</th>\n",
       "      <td>45</td>\n",
       "      <td>Avalon Park</td>\n",
       "      <td>1297257</td>\n",
       "    </tr>\n",
       "    <tr>\n",
       "      <th>75</th>\n",
       "      <td>55</td>\n",
       "      <td>Hegewisch</td>\n",
       "      <td>80264</td>\n",
       "    </tr>\n",
       "    <tr>\n",
       "      <th>76</th>\n",
       "      <td>54</td>\n",
       "      <td>Riverdale</td>\n",
       "      <td>432822</td>\n",
       "    </tr>\n",
       "    <tr>\n",
       "      <th>77</th>\n",
       "      <td>74</td>\n",
       "      <td>Mount Greenwood</td>\n",
       "      <td>98280</td>\n",
       "    </tr>\n",
       "  </tbody>\n",
       "</table>\n",
       "<p>78 rows × 3 columns</p>\n",
       "</div>"
      ],
      "text/plain": [
       "    dropoff_community_area   community_name  total_arrests\n",
       "0                       24        West Town      171118392\n",
       "1                       51    South Deering        2233401\n",
       "2                       76           O'Hare       30021435\n",
       "3                       28   Near West Side      746036100\n",
       "4                       33  Near South Side       47299142\n",
       "..                     ...              ...            ...\n",
       "73                      57   Archer Heights         265490\n",
       "74                      45      Avalon Park        1297257\n",
       "75                      55        Hegewisch          80264\n",
       "76                      54        Riverdale         432822\n",
       "77                      74  Mount Greenwood          98280\n",
       "\n",
       "[78 rows x 3 columns]"
      ]
     },
     "execution_count": 18,
     "metadata": {},
     "output_type": "execute_result"
    }
   ],
   "source": [
    "%%bigquery --project {PROJECT}\n",
    "\n",
    "SELECT dropoff_community_area, community_name,\n",
    "SUM(total_arrests) AS total_arrests\n",
    "FROM playground.taxi_trips \n",
    "GROUP BY dropoff_community_area, community_name"
   ]
  },
  {
   "cell_type": "markdown",
   "id": "7fcc75fc",
   "metadata": {},
   "source": [
    "### Load a sample data to a Pandas DataFrame"
   ]
  },
  {
   "cell_type": "code",
   "execution_count": 19,
   "id": "f252a846",
   "metadata": {},
   "outputs": [
    {
     "data": {
      "application/vnd.jupyter.widget-view+json": {
       "model_id": "8b623f5c69fd429ea2e0506cf9ffaec2",
       "version_major": 2,
       "version_minor": 0
      },
      "text/plain": [
       "Query is running:   0%|          |"
      ]
     },
     "metadata": {},
     "output_type": "display_data"
    },
    {
     "name": "stderr",
     "output_type": "stream",
     "text": [
      "c:\\Users\\MANSM\\Demo\\GCPML-ChicagoTaxi\\.venv\\lib\\site-packages\\google\\cloud\\bigquery\\table.py:2309: UserWarning: Unable to represent RANGE schema as struct using pandas ArrowDtype. Using `object` instead. To use ArrowDtype, use pandas >= 1.5 and pyarrow >= 10.0.1.\n",
      "  warnings.warn(_RANGE_PYARROW_WARNING)\n",
      "c:\\Users\\MANSM\\Demo\\GCPML-ChicagoTaxi\\.venv\\lib\\site-packages\\google\\cloud\\bigquery\\table.py:2323: UserWarning: Unable to represent RANGE schema as struct using pandas ArrowDtype. Using `object` instead. To use ArrowDtype, use pandas >= 1.5 and pyarrow >= 10.0.1.\n",
      "  warnings.warn(_RANGE_PYARROW_WARNING)\n",
      "c:\\Users\\MANSM\\Demo\\GCPML-ChicagoTaxi\\.venv\\lib\\site-packages\\google\\cloud\\bigquery\\table.py:2337: UserWarning: Unable to represent RANGE schema as struct using pandas ArrowDtype. Using `object` instead. To use ArrowDtype, use pandas >= 1.5 and pyarrow >= 10.0.1.\n",
      "  warnings.warn(_RANGE_PYARROW_WARNING)\n"
     ]
    },
    {
     "data": {
      "application/vnd.jupyter.widget-view+json": {
       "model_id": "b912a27e6e47415494ac4b8de38b9f92",
       "version_major": 2,
       "version_minor": 0
      },
      "text/plain": [
       "Downloading:   0%|          |"
      ]
     },
     "metadata": {},
     "output_type": "display_data"
    }
   ],
   "source": [
    "%%bigquery sample_data --project {PROJECT}\n",
    "\n",
    "SELECT * EXCEPT (trip_start_timestamp)\n",
    "FROM playground.taxi_trips # Change to your BQ dataset and table names."
   ]
  },
  {
   "cell_type": "code",
   "execution_count": 20,
   "id": "798809d2",
   "metadata": {},
   "outputs": [
    {
     "data": {
      "text/html": [
       "<div>\n",
       "<style scoped>\n",
       "    .dataframe tbody tr th:only-of-type {\n",
       "        vertical-align: middle;\n",
       "    }\n",
       "\n",
       "    .dataframe tbody tr th {\n",
       "        vertical-align: top;\n",
       "    }\n",
       "\n",
       "    .dataframe thead th {\n",
       "        text-align: right;\n",
       "    }\n",
       "</style>\n",
       "<table border=\"1\" class=\"dataframe\">\n",
       "  <thead>\n",
       "    <tr style=\"text-align: right;\">\n",
       "      <th></th>\n",
       "      <th>0</th>\n",
       "      <th>1</th>\n",
       "      <th>2</th>\n",
       "      <th>3</th>\n",
       "      <th>4</th>\n",
       "    </tr>\n",
       "  </thead>\n",
       "  <tbody>\n",
       "    <tr>\n",
       "      <th>trip_month</th>\n",
       "      <td>2</td>\n",
       "      <td>2</td>\n",
       "      <td>10</td>\n",
       "      <td>12</td>\n",
       "      <td>2</td>\n",
       "    </tr>\n",
       "    <tr>\n",
       "      <th>trip_day</th>\n",
       "      <td>18</td>\n",
       "      <td>18</td>\n",
       "      <td>10</td>\n",
       "      <td>27</td>\n",
       "      <td>23</td>\n",
       "    </tr>\n",
       "    <tr>\n",
       "      <th>trip_day_of_week</th>\n",
       "      <td>3</td>\n",
       "      <td>3</td>\n",
       "      <td>7</td>\n",
       "      <td>1</td>\n",
       "      <td>1</td>\n",
       "    </tr>\n",
       "    <tr>\n",
       "      <th>trip_hour</th>\n",
       "      <td>9</td>\n",
       "      <td>9</td>\n",
       "      <td>14</td>\n",
       "      <td>10</td>\n",
       "      <td>5</td>\n",
       "    </tr>\n",
       "    <tr>\n",
       "      <th>trip_seconds</th>\n",
       "      <td>2150</td>\n",
       "      <td>2106</td>\n",
       "      <td>37</td>\n",
       "      <td>44</td>\n",
       "      <td>1436</td>\n",
       "    </tr>\n",
       "    <tr>\n",
       "      <th>trip_miles</th>\n",
       "      <td>16.45</td>\n",
       "      <td>16.44</td>\n",
       "      <td>0.01</td>\n",
       "      <td>0.03</td>\n",
       "      <td>21.6</td>\n",
       "    </tr>\n",
       "    <tr>\n",
       "      <th>payment_type</th>\n",
       "      <td>Cash</td>\n",
       "      <td>Cash</td>\n",
       "      <td>Cash</td>\n",
       "      <td>Cash</td>\n",
       "      <td>Cash</td>\n",
       "    </tr>\n",
       "    <tr>\n",
       "      <th>pickup_grid</th>\n",
       "      <td>POINT(-87.6 41.7)</td>\n",
       "      <td>POINT(-87.6 41.7)</td>\n",
       "      <td>POINT(-87.6 41.7)</td>\n",
       "      <td>POINT(-87.6 41.7)</td>\n",
       "      <td>POINT(-87.6 41.8)</td>\n",
       "    </tr>\n",
       "    <tr>\n",
       "      <th>dropoff_grid</th>\n",
       "      <td>POINT(-87.7 41.9)</td>\n",
       "      <td>POINT(-87.7 41.9)</td>\n",
       "      <td>POINT(-87.6 41.7)</td>\n",
       "      <td>POINT(-87.6 41.7)</td>\n",
       "      <td>POINT(-87.9 42)</td>\n",
       "    </tr>\n",
       "    <tr>\n",
       "      <th>euclidean</th>\n",
       "      <td>21321.12142</td>\n",
       "      <td>21321.12142</td>\n",
       "      <td>0.0</td>\n",
       "      <td>0.0</td>\n",
       "      <td>27221.098106</td>\n",
       "    </tr>\n",
       "    <tr>\n",
       "      <th>loc_cross</th>\n",
       "      <td>POINT(-87.6 41.7)POINT(-87.7 41.9)</td>\n",
       "      <td>POINT(-87.6 41.7)POINT(-87.7 41.9)</td>\n",
       "      <td>POINT(-87.6 41.7)POINT(-87.6 41.7)</td>\n",
       "      <td>POINT(-87.6 41.7)POINT(-87.6 41.7)</td>\n",
       "      <td>POINT(-87.6 41.8)POINT(-87.9 42)</td>\n",
       "    </tr>\n",
       "    <tr>\n",
       "      <th>community_name</th>\n",
       "      <td>West Town</td>\n",
       "      <td>West Town</td>\n",
       "      <td>South Deering</td>\n",
       "      <td>South Deering</td>\n",
       "      <td>O'Hare</td>\n",
       "    </tr>\n",
       "    <tr>\n",
       "      <th>total_arrests</th>\n",
       "      <td>5286</td>\n",
       "      <td>5286</td>\n",
       "      <td>1641</td>\n",
       "      <td>1641</td>\n",
       "      <td>1215</td>\n",
       "    </tr>\n",
       "    <tr>\n",
       "      <th>fare</th>\n",
       "      <td>42.0</td>\n",
       "      <td>42.0</td>\n",
       "      <td>3.25</td>\n",
       "      <td>3.25</td>\n",
       "      <td>51.75</td>\n",
       "    </tr>\n",
       "    <tr>\n",
       "      <th>tips</th>\n",
       "      <td>0.0</td>\n",
       "      <td>0.0</td>\n",
       "      <td>0.0</td>\n",
       "      <td>0.0</td>\n",
       "      <td>0.0</td>\n",
       "    </tr>\n",
       "    <tr>\n",
       "      <th>pickup_longitude</th>\n",
       "      <td>-87.574888</td>\n",
       "      <td>-87.574888</td>\n",
       "      <td>-87.574888</td>\n",
       "      <td>-87.574888</td>\n",
       "      <td>-87.624135</td>\n",
       "    </tr>\n",
       "    <tr>\n",
       "      <th>pickup_latitude</th>\n",
       "      <td>41.715761</td>\n",
       "      <td>41.715761</td>\n",
       "      <td>41.715761</td>\n",
       "      <td>41.715761</td>\n",
       "      <td>41.849247</td>\n",
       "    </tr>\n",
       "    <tr>\n",
       "      <th>dropoff_longitude</th>\n",
       "      <td>-87.653614</td>\n",
       "      <td>-87.653614</td>\n",
       "      <td>-87.574888</td>\n",
       "      <td>-87.574888</td>\n",
       "      <td>-87.90304</td>\n",
       "    </tr>\n",
       "    <tr>\n",
       "      <th>dropoff_latitude</th>\n",
       "      <td>41.898306</td>\n",
       "      <td>41.898306</td>\n",
       "      <td>41.715761</td>\n",
       "      <td>41.715761</td>\n",
       "      <td>41.979071</td>\n",
       "    </tr>\n",
       "    <tr>\n",
       "      <th>pickup_community_area</th>\n",
       "      <td>51</td>\n",
       "      <td>51</td>\n",
       "      <td>51</td>\n",
       "      <td>51</td>\n",
       "      <td>33</td>\n",
       "    </tr>\n",
       "    <tr>\n",
       "      <th>dropoff_community_area</th>\n",
       "      <td>24</td>\n",
       "      <td>24</td>\n",
       "      <td>51</td>\n",
       "      <td>51</td>\n",
       "      <td>76</td>\n",
       "    </tr>\n",
       "  </tbody>\n",
       "</table>\n",
       "</div>"
      ],
      "text/plain": [
       "                                                         0  \\\n",
       "trip_month                                               2   \n",
       "trip_day                                                18   \n",
       "trip_day_of_week                                         3   \n",
       "trip_hour                                                9   \n",
       "trip_seconds                                          2150   \n",
       "trip_miles                                           16.45   \n",
       "payment_type                                          Cash   \n",
       "pickup_grid                              POINT(-87.6 41.7)   \n",
       "dropoff_grid                             POINT(-87.7 41.9)   \n",
       "euclidean                                      21321.12142   \n",
       "loc_cross               POINT(-87.6 41.7)POINT(-87.7 41.9)   \n",
       "community_name                                   West Town   \n",
       "total_arrests                                         5286   \n",
       "fare                                                  42.0   \n",
       "tips                                                   0.0   \n",
       "pickup_longitude                                -87.574888   \n",
       "pickup_latitude                                  41.715761   \n",
       "dropoff_longitude                               -87.653614   \n",
       "dropoff_latitude                                 41.898306   \n",
       "pickup_community_area                                   51   \n",
       "dropoff_community_area                                  24   \n",
       "\n",
       "                                                         1  \\\n",
       "trip_month                                               2   \n",
       "trip_day                                                18   \n",
       "trip_day_of_week                                         3   \n",
       "trip_hour                                                9   \n",
       "trip_seconds                                          2106   \n",
       "trip_miles                                           16.44   \n",
       "payment_type                                          Cash   \n",
       "pickup_grid                              POINT(-87.6 41.7)   \n",
       "dropoff_grid                             POINT(-87.7 41.9)   \n",
       "euclidean                                      21321.12142   \n",
       "loc_cross               POINT(-87.6 41.7)POINT(-87.7 41.9)   \n",
       "community_name                                   West Town   \n",
       "total_arrests                                         5286   \n",
       "fare                                                  42.0   \n",
       "tips                                                   0.0   \n",
       "pickup_longitude                                -87.574888   \n",
       "pickup_latitude                                  41.715761   \n",
       "dropoff_longitude                               -87.653614   \n",
       "dropoff_latitude                                 41.898306   \n",
       "pickup_community_area                                   51   \n",
       "dropoff_community_area                                  24   \n",
       "\n",
       "                                                         2  \\\n",
       "trip_month                                              10   \n",
       "trip_day                                                10   \n",
       "trip_day_of_week                                         7   \n",
       "trip_hour                                               14   \n",
       "trip_seconds                                            37   \n",
       "trip_miles                                            0.01   \n",
       "payment_type                                          Cash   \n",
       "pickup_grid                              POINT(-87.6 41.7)   \n",
       "dropoff_grid                             POINT(-87.6 41.7)   \n",
       "euclidean                                              0.0   \n",
       "loc_cross               POINT(-87.6 41.7)POINT(-87.6 41.7)   \n",
       "community_name                               South Deering   \n",
       "total_arrests                                         1641   \n",
       "fare                                                  3.25   \n",
       "tips                                                   0.0   \n",
       "pickup_longitude                                -87.574888   \n",
       "pickup_latitude                                  41.715761   \n",
       "dropoff_longitude                               -87.574888   \n",
       "dropoff_latitude                                 41.715761   \n",
       "pickup_community_area                                   51   \n",
       "dropoff_community_area                                  51   \n",
       "\n",
       "                                                         3  \\\n",
       "trip_month                                              12   \n",
       "trip_day                                                27   \n",
       "trip_day_of_week                                         1   \n",
       "trip_hour                                               10   \n",
       "trip_seconds                                            44   \n",
       "trip_miles                                            0.03   \n",
       "payment_type                                          Cash   \n",
       "pickup_grid                              POINT(-87.6 41.7)   \n",
       "dropoff_grid                             POINT(-87.6 41.7)   \n",
       "euclidean                                              0.0   \n",
       "loc_cross               POINT(-87.6 41.7)POINT(-87.6 41.7)   \n",
       "community_name                               South Deering   \n",
       "total_arrests                                         1641   \n",
       "fare                                                  3.25   \n",
       "tips                                                   0.0   \n",
       "pickup_longitude                                -87.574888   \n",
       "pickup_latitude                                  41.715761   \n",
       "dropoff_longitude                               -87.574888   \n",
       "dropoff_latitude                                 41.715761   \n",
       "pickup_community_area                                   51   \n",
       "dropoff_community_area                                  51   \n",
       "\n",
       "                                                       4  \n",
       "trip_month                                             2  \n",
       "trip_day                                              23  \n",
       "trip_day_of_week                                       1  \n",
       "trip_hour                                              5  \n",
       "trip_seconds                                        1436  \n",
       "trip_miles                                          21.6  \n",
       "payment_type                                        Cash  \n",
       "pickup_grid                            POINT(-87.6 41.8)  \n",
       "dropoff_grid                             POINT(-87.9 42)  \n",
       "euclidean                                   27221.098106  \n",
       "loc_cross               POINT(-87.6 41.8)POINT(-87.9 42)  \n",
       "community_name                                    O'Hare  \n",
       "total_arrests                                       1215  \n",
       "fare                                               51.75  \n",
       "tips                                                 0.0  \n",
       "pickup_longitude                              -87.624135  \n",
       "pickup_latitude                                41.849247  \n",
       "dropoff_longitude                              -87.90304  \n",
       "dropoff_latitude                               41.979071  \n",
       "pickup_community_area                                 33  \n",
       "dropoff_community_area                                76  "
      ]
     },
     "execution_count": 20,
     "metadata": {},
     "output_type": "execute_result"
    }
   ],
   "source": [
    "sample_data.head().T"
   ]
  },
  {
   "cell_type": "code",
   "execution_count": 21,
   "id": "3d06bb64",
   "metadata": {},
   "outputs": [
    {
     "data": {
      "text/plain": [
       "<Axes: >"
      ]
     },
     "execution_count": 21,
     "metadata": {},
     "output_type": "execute_result"
    },
    {
     "data": {
      "image/png": "[encoded data removed]",
      "text/plain": [
       "<Figure size 640x480 with 1 Axes>"
      ]
     },
     "metadata": {},
     "output_type": "display_data"
    }
   ],
   "source": [
    "sample_data.euclidean.hist()"
   ]
  },
  {
   "cell_type": "code",
   "execution_count": 22,
   "id": "4087d5fa",
   "metadata": {},
   "outputs": [],
   "source": [
    "stats = tfdv.generate_statistics_from_dataframe(\n",
    "    dataframe=sample_data,\n",
    "    stats_options=tfdv.StatsOptions(\n",
    "        label_feature='tip_bin',\n",
    "        weight_feature=None,\n",
    "        sample_rate=1,\n",
    "        num_top_values=50\n",
    "    )\n",
    ")"
   ]
  },
  {
   "cell_type": "code",
   "execution_count": 23,
   "id": "091fbd77",
   "metadata": {},
   "outputs": [
    {
     "data": {
      "text/html": [
       "<iframe id='facets-iframe' width=\"100%\" height=\"500px\"></iframe>\n",
       "        <script>\n",
       "        facets_iframe = document.getElementById('facets-iframe');\n",
       "        facets_html = '<script src=\"https://cdnjs.cloudflare.com/ajax/libs/webcomponentsjs/1.3.3/webcomponents-lite.js\"><\\/script><link rel=\"import\" href=\"https://raw.githubusercontent.com/PAIR-code/facets/master/facets-dist/facets-jupyter.html\"><facets-overview proto-input=\"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\"></facets-overview>';\n",
       "        facets_iframe.srcdoc = facets_html;\n",
       "         facets_iframe.id = \"\";\n",
       "         setTimeout(() => {\n",
       "           facets_iframe.setAttribute('height', facets_iframe.contentWindow.document.body.offsetHeight + 'px')\n",
       "         }, 1500)\n",
       "         </script>"
      ],
      "text/plain": [
       "<IPython.core.display.HTML object>"
      ]
     },
     "metadata": {},
     "output_type": "display_data"
    }
   ],
   "source": [
    "tfdv.visualize_statistics(stats)"
   ]
  },
  {
   "cell_type": "code",
   "execution_count": 24,
   "id": "d251e09b",
   "metadata": {},
   "outputs": [
    {
     "data": {
      "text/html": [
       "<div>\n",
       "<style scoped>\n",
       "    .dataframe tbody tr th:only-of-type {\n",
       "        vertical-align: middle;\n",
       "    }\n",
       "\n",
       "    .dataframe tbody tr th {\n",
       "        vertical-align: top;\n",
       "    }\n",
       "\n",
       "    .dataframe thead th {\n",
       "        text-align: right;\n",
       "    }\n",
       "</style>\n",
       "<table border=\"1\" class=\"dataframe\">\n",
       "  <thead>\n",
       "    <tr style=\"text-align: right;\">\n",
       "      <th></th>\n",
       "      <th>Type</th>\n",
       "      <th>Presence</th>\n",
       "      <th>Valency</th>\n",
       "      <th>Domain</th>\n",
       "    </tr>\n",
       "    <tr>\n",
       "      <th>Feature name</th>\n",
       "      <th></th>\n",
       "      <th></th>\n",
       "      <th></th>\n",
       "      <th></th>\n",
       "    </tr>\n",
       "  </thead>\n",
       "  <tbody>\n",
       "    <tr>\n",
       "      <th>'trip_month'</th>\n",
       "      <td>INT</td>\n",
       "      <td>required</td>\n",
       "      <td></td>\n",
       "      <td>-</td>\n",
       "    </tr>\n",
       "    <tr>\n",
       "      <th>'trip_day'</th>\n",
       "      <td>INT</td>\n",
       "      <td>required</td>\n",
       "      <td></td>\n",
       "      <td>-</td>\n",
       "    </tr>\n",
       "    <tr>\n",
       "      <th>'trip_day_of_week'</th>\n",
       "      <td>INT</td>\n",
       "      <td>required</td>\n",
       "      <td></td>\n",
       "      <td>-</td>\n",
       "    </tr>\n",
       "    <tr>\n",
       "      <th>'trip_hour'</th>\n",
       "      <td>INT</td>\n",
       "      <td>required</td>\n",
       "      <td></td>\n",
       "      <td>-</td>\n",
       "    </tr>\n",
       "    <tr>\n",
       "      <th>'trip_seconds'</th>\n",
       "      <td>INT</td>\n",
       "      <td>required</td>\n",
       "      <td></td>\n",
       "      <td>-</td>\n",
       "    </tr>\n",
       "    <tr>\n",
       "      <th>'trip_miles'</th>\n",
       "      <td>FLOAT</td>\n",
       "      <td>required</td>\n",
       "      <td></td>\n",
       "      <td>-</td>\n",
       "    </tr>\n",
       "    <tr>\n",
       "      <th>'payment_type'</th>\n",
       "      <td>STRING</td>\n",
       "      <td>required</td>\n",
       "      <td></td>\n",
       "      <td>'payment_type'</td>\n",
       "    </tr>\n",
       "    <tr>\n",
       "      <th>'pickup_grid'</th>\n",
       "      <td>STRING</td>\n",
       "      <td>required</td>\n",
       "      <td></td>\n",
       "      <td>'pickup_grid'</td>\n",
       "    </tr>\n",
       "    <tr>\n",
       "      <th>'dropoff_grid'</th>\n",
       "      <td>STRING</td>\n",
       "      <td>required</td>\n",
       "      <td></td>\n",
       "      <td>'dropoff_grid'</td>\n",
       "    </tr>\n",
       "    <tr>\n",
       "      <th>'euclidean'</th>\n",
       "      <td>FLOAT</td>\n",
       "      <td>required</td>\n",
       "      <td></td>\n",
       "      <td>-</td>\n",
       "    </tr>\n",
       "    <tr>\n",
       "      <th>'loc_cross'</th>\n",
       "      <td>BYTES</td>\n",
       "      <td>required</td>\n",
       "      <td></td>\n",
       "      <td>-</td>\n",
       "    </tr>\n",
       "    <tr>\n",
       "      <th>'community_name'</th>\n",
       "      <td>STRING</td>\n",
       "      <td>optional</td>\n",
       "      <td>single</td>\n",
       "      <td>'community_name'</td>\n",
       "    </tr>\n",
       "    <tr>\n",
       "      <th>'total_arrests'</th>\n",
       "      <td>INT</td>\n",
       "      <td>optional</td>\n",
       "      <td>single</td>\n",
       "      <td>-</td>\n",
       "    </tr>\n",
       "    <tr>\n",
       "      <th>'fare'</th>\n",
       "      <td>FLOAT</td>\n",
       "      <td>required</td>\n",
       "      <td></td>\n",
       "      <td>-</td>\n",
       "    </tr>\n",
       "    <tr>\n",
       "      <th>'tips'</th>\n",
       "      <td>FLOAT</td>\n",
       "      <td>required</td>\n",
       "      <td></td>\n",
       "      <td>-</td>\n",
       "    </tr>\n",
       "    <tr>\n",
       "      <th>'pickup_longitude'</th>\n",
       "      <td>FLOAT</td>\n",
       "      <td>required</td>\n",
       "      <td></td>\n",
       "      <td>-</td>\n",
       "    </tr>\n",
       "    <tr>\n",
       "      <th>'pickup_latitude'</th>\n",
       "      <td>FLOAT</td>\n",
       "      <td>required</td>\n",
       "      <td></td>\n",
       "      <td>-</td>\n",
       "    </tr>\n",
       "    <tr>\n",
       "      <th>'dropoff_longitude'</th>\n",
       "      <td>FLOAT</td>\n",
       "      <td>required</td>\n",
       "      <td></td>\n",
       "      <td>-</td>\n",
       "    </tr>\n",
       "    <tr>\n",
       "      <th>'dropoff_latitude'</th>\n",
       "      <td>FLOAT</td>\n",
       "      <td>required</td>\n",
       "      <td></td>\n",
       "      <td>-</td>\n",
       "    </tr>\n",
       "    <tr>\n",
       "      <th>'pickup_community_area'</th>\n",
       "      <td>INT</td>\n",
       "      <td>optional</td>\n",
       "      <td>single</td>\n",
       "      <td>-</td>\n",
       "    </tr>\n",
       "    <tr>\n",
       "      <th>'dropoff_community_area'</th>\n",
       "      <td>INT</td>\n",
       "      <td>optional</td>\n",
       "      <td>single</td>\n",
       "      <td>-</td>\n",
       "    </tr>\n",
       "  </tbody>\n",
       "</table>\n",
       "</div>"
      ],
      "text/plain": [
       "                            Type  Presence Valency            Domain\n",
       "Feature name                                                        \n",
       "'trip_month'                 INT  required                         -\n",
       "'trip_day'                   INT  required                         -\n",
       "'trip_day_of_week'           INT  required                         -\n",
       "'trip_hour'                  INT  required                         -\n",
       "'trip_seconds'               INT  required                         -\n",
       "'trip_miles'               FLOAT  required                         -\n",
       "'payment_type'            STRING  required            'payment_type'\n",
       "'pickup_grid'             STRING  required             'pickup_grid'\n",
       "'dropoff_grid'            STRING  required            'dropoff_grid'\n",
       "'euclidean'                FLOAT  required                         -\n",
       "'loc_cross'                BYTES  required                         -\n",
       "'community_name'          STRING  optional  single  'community_name'\n",
       "'total_arrests'              INT  optional  single                 -\n",
       "'fare'                     FLOAT  required                         -\n",
       "'tips'                     FLOAT  required                         -\n",
       "'pickup_longitude'         FLOAT  required                         -\n",
       "'pickup_latitude'          FLOAT  required                         -\n",
       "'dropoff_longitude'        FLOAT  required                         -\n",
       "'dropoff_latitude'         FLOAT  required                         -\n",
       "'pickup_community_area'      INT  optional  single                 -\n",
       "'dropoff_community_area'     INT  optional  single                 -"
      ]
     },
     "metadata": {},
     "output_type": "display_data"
    },
    {
     "data": {
      "text/html": [
       "<div>\n",
       "<style scoped>\n",
       "    .dataframe tbody tr th:only-of-type {\n",
       "        vertical-align: middle;\n",
       "    }\n",
       "\n",
       "    .dataframe tbody tr th {\n",
       "        vertical-align: top;\n",
       "    }\n",
       "\n",
       "    .dataframe thead th {\n",
       "        text-align: right;\n",
       "    }\n",
       "</style>\n",
       "<table border=\"1\" class=\"dataframe\">\n",
       "  <thead>\n",
       "    <tr style=\"text-align: right;\">\n",
       "      <th></th>\n",
       "      <th>Values</th>\n",
       "    </tr>\n",
       "    <tr>\n",
       "      <th>Domain</th>\n",
       "      <th></th>\n",
       "    </tr>\n",
       "  </thead>\n",
       "  <tbody>\n",
       "    <tr>\n",
       "      <th>'payment_type'</th>\n",
       "      <td>'Cash', 'Credit Card', 'Dispute', 'Mobile', 'No Charge', 'Prcard', 'Prepaid', 'Unknown'</td>\n",
       "    </tr>\n",
       "    <tr>\n",
       "      <th>'pickup_grid'</th>\n",
       "      <td>'POINT(-87.5 41.7)', 'POINT(-87.6 41.7)', 'POINT(-87.6 41.8)', 'POINT(-87.6 41.9)', 'POINT(-87.6 42)', 'POINT(-87.7 41.7)', 'POINT(-87.7 41.8)', 'POINT(-87.7 41.9)', 'POINT(-87.7 42)', 'POINT(-87.8 41.8)', 'POINT(-87.8 41.9)', 'POINT(-87.8 42)', 'POINT(-87.9 42)'</td>\n",
       "    </tr>\n",
       "    <tr>\n",
       "      <th>'dropoff_grid'</th>\n",
       "      <td>'POINT(-87.5 41.7)', 'POINT(-87.6 41.7)', 'POINT(-87.6 41.8)', 'POINT(-87.6 41.9)', 'POINT(-87.6 42)', 'POINT(-87.7 41.7)', 'POINT(-87.7 41.8)', 'POINT(-87.7 41.9)', 'POINT(-87.7 42)', 'POINT(-87.8 41.8)', 'POINT(-87.8 41.9)', 'POINT(-87.8 42)', 'POINT(-87.9 42)'</td>\n",
       "    </tr>\n",
       "    <tr>\n",
       "      <th>'community_name'</th>\n",
       "      <td>'Albany Park', 'Archer Heights', 'Armour Square', 'Ashburn', 'Auburn Gresham', 'Austin', 'Avalon Park', 'Avondale', 'Belmont Cragin', 'Beverly', 'Bridgeport', 'Brighton Park', 'Burnside', 'Calumet Heights', 'Chatham', 'Chicago Lawn', 'Clearing', 'Douglas', 'Dunning', 'East Garfield Park', 'East Side', 'Edgewater', 'Edison Park', 'Englewood', 'Forest Glen', 'Fuller Park', 'Gage Park', 'Garfield Ridge', 'Grand Boulevard', 'Greater Grand Crossing', 'Hegewisch', 'Hermosa', 'Humboldt Park', 'Hyde Park', 'Irving Park', 'Jefferson Park', 'Kenwood', 'Lake View', 'Lincoln Park', 'Lincoln Square', 'Logan Square', 'Loop', 'Lower West Side', 'McKinley Park', 'Montclare', 'Morgan Park', 'Mount Greenwood', 'Near North Side', 'Near South Side', 'Near West Side', 'New City', 'North Center', 'North Lawndale', 'North Park', 'Norwood Park', 'O\\'Hare', 'Oakland', 'Portage Park', 'Pullman', 'Riverdale', 'Rogers Park', 'Roseland', 'South Chicago', 'South Deering', 'South Lawndale', 'South Shore', 'Uptown', 'Washington Heights', 'Washington Park', 'West Elsdon', 'West Englewood', 'West Garfield Park', 'West Lawn', 'West Pullman', 'West Ridge', 'West Town', 'Woodlawn'</td>\n",
       "    </tr>\n",
       "  </tbody>\n",
       "</table>\n",
       "</div>"
      ],
      "text/plain": [
       "                                                                                                                                                                                                                                                                                                                                                                                                                                                                                                                                                                                                                                                                                                                                                                                                                                                                                                                                                                                                                                                                                                                                                                                                                      Values\n",
       "Domain                                                                                                                                                                                                                                                                                                                                                                                                                                                                                                                                                                                                                                                                                                                                                                                                                                                                                                                                                                                                                                                                                                                                                                                                                      \n",
       "'payment_type'                                                                                                                                                                                                                                                                                                                                                                                                                                                                                                                                                                                                                                                                                                                                                                                                                                                                                                                                                                                                                                                                                                                       'Cash', 'Credit Card', 'Dispute', 'Mobile', 'No Charge', 'Prcard', 'Prepaid', 'Unknown'\n",
       "'pickup_grid'                                                                                                                                                                                                                                                                                                                                                                                                                                                                                                                                                                                                                                                                                                                                                                                                                                                                                                                                        'POINT(-87.5 41.7)', 'POINT(-87.6 41.7)', 'POINT(-87.6 41.8)', 'POINT(-87.6 41.9)', 'POINT(-87.6 42)', 'POINT(-87.7 41.7)', 'POINT(-87.7 41.8)', 'POINT(-87.7 41.9)', 'POINT(-87.7 42)', 'POINT(-87.8 41.8)', 'POINT(-87.8 41.9)', 'POINT(-87.8 42)', 'POINT(-87.9 42)'\n",
       "'dropoff_grid'                                                                                                                                                                                                                                                                                                                                                                                                                                                                                                                                                                                                                                                                                                                                                                                                                                                                                                                                       'POINT(-87.5 41.7)', 'POINT(-87.6 41.7)', 'POINT(-87.6 41.8)', 'POINT(-87.6 41.9)', 'POINT(-87.6 42)', 'POINT(-87.7 41.7)', 'POINT(-87.7 41.8)', 'POINT(-87.7 41.9)', 'POINT(-87.7 42)', 'POINT(-87.8 41.8)', 'POINT(-87.8 41.9)', 'POINT(-87.8 42)', 'POINT(-87.9 42)'\n",
       "'community_name'  'Albany Park', 'Archer Heights', 'Armour Square', 'Ashburn', 'Auburn Gresham', 'Austin', 'Avalon Park', 'Avondale', 'Belmont Cragin', 'Beverly', 'Bridgeport', 'Brighton Park', 'Burnside', 'Calumet Heights', 'Chatham', 'Chicago Lawn', 'Clearing', 'Douglas', 'Dunning', 'East Garfield Park', 'East Side', 'Edgewater', 'Edison Park', 'Englewood', 'Forest Glen', 'Fuller Park', 'Gage Park', 'Garfield Ridge', 'Grand Boulevard', 'Greater Grand Crossing', 'Hegewisch', 'Hermosa', 'Humboldt Park', 'Hyde Park', 'Irving Park', 'Jefferson Park', 'Kenwood', 'Lake View', 'Lincoln Park', 'Lincoln Square', 'Logan Square', 'Loop', 'Lower West Side', 'McKinley Park', 'Montclare', 'Morgan Park', 'Mount Greenwood', 'Near North Side', 'Near South Side', 'Near West Side', 'New City', 'North Center', 'North Lawndale', 'North Park', 'Norwood Park', 'O\\'Hare', 'Oakland', 'Portage Park', 'Pullman', 'Riverdale', 'Rogers Park', 'Roseland', 'South Chicago', 'South Deering', 'South Lawndale', 'South Shore', 'Uptown', 'Washington Heights', 'Washington Park', 'West Elsdon', 'West Englewood', 'West Garfield Park', 'West Lawn', 'West Pullman', 'West Ridge', 'West Town', 'Woodlawn'"
      ]
     },
     "metadata": {},
     "output_type": "display_data"
    }
   ],
   "source": [
    "schema = tfdv.infer_schema(statistics=stats)\n",
    "tfdv.display_schema(schema=schema)"
   ]
  },
  {
   "cell_type": "code",
   "execution_count": 25,
   "id": "502c49f1",
   "metadata": {},
   "outputs": [],
   "source": [
    "raw_schema_location = os.path.join(RAW_SCHEMA_DIR, 'schema.pbtxt')\n",
    "tfdv.write_schema_text(schema, raw_schema_location)"
   ]
  },
  {
   "cell_type": "code",
   "execution_count": 26,
   "id": "90d9b605",
   "metadata": {},
   "outputs": [],
   "source": [
    "vertex_ai.init(\n",
    "    project=PROJECT,\n",
    "    location=REGION\n",
    ")"
   ]
  },
  {
   "cell_type": "code",
   "execution_count": 27,
   "id": "a0a1707a",
   "metadata": {},
   "outputs": [
    {
     "name": "stdout",
     "output_type": "stream",
     "text": [
      "Creating TabularDataset\n",
      "Create TabularDataset backing LRO: projects/642238407820/locations/us-west2/datasets/2753071562834837504/operations/8367594649166020608\n",
      "TabularDataset created. Resource name: projects/642238407820/locations/us-west2/datasets/2753071562834837504\n",
      "To use this TabularDataset in another session:\n",
      "ds = aiplatform.TabularDataset('projects/642238407820/locations/us-west2/datasets/2753071562834837504')\n"
     ]
    },
    {
     "data": {
      "text/plain": [
       "name: \"projects/642238407820/locations/us-west2/datasets/2753071562834837504\"\n",
       "display_name: \"chicago-taxi-tips\"\n",
       "metadata_schema_uri: \"gs://google-cloud-aiplatform/schema/dataset/metadata/tabular_1.0.0.yaml\"\n",
       "create_time {\n",
       "  seconds: 1722953775\n",
       "  nanos: 493973000\n",
       "}\n",
       "update_time {\n",
       "  seconds: 1722953776\n",
       "  nanos: 868948000\n",
       "}\n",
       "etag: \"AMEw9yPVZWA3jRFfZbD-fLYgCqfLReASN7a4rFYx8Td1egfjdJFZ2gvxIsL0No6q9ByX\"\n",
       "metadata {\n",
       "  struct_value {\n",
       "    fields {\n",
       "      key: \"inputConfig\"\n",
       "      value {\n",
       "        struct_value {\n",
       "          fields {\n",
       "            key: \"bigquerySource\"\n",
       "            value {\n",
       "              struct_value {\n",
       "                fields {\n",
       "                  key: \"uri\"\n",
       "                  value {\n",
       "                    string_value: \"bq://pa-poc-mlspec-1.playground.taxi_trips\"\n",
       "                  }\n",
       "                }\n",
       "              }\n",
       "            }\n",
       "          }\n",
       "        }\n",
       "      }\n",
       "    }\n",
       "  }\n",
       "}\n",
       "metadata_artifact: \"projects/642238407820/locations/us-west2/metadataStores/default/artifacts/83279aac-f3ab-4b01-92c0-999ea2c1cae5\""
      ]
     },
     "execution_count": 27,
     "metadata": {},
     "output_type": "execute_result"
    }
   ],
   "source": [
    "bq_uri = f\"bq://{PROJECT}.{BQ_DATASET_NAME}.{BQ_TABLE_NAME}\"\n",
    "\n",
    "dataset = vertex_ai.TabularDataset.create(\n",
    "    display_name=DATASET_DISPLAY_NAME, bq_source=bq_uri)\n",
    "\n",
    "dataset.gca_resource"
   ]
  },
  {
   "cell_type": "code",
   "execution_count": 28,
   "id": "d78b7f4d",
   "metadata": {},
   "outputs": [
    {
     "name": "stdout",
     "output_type": "stream",
     "text": [
      "Dataset resource name: projects/642238407820/locations/us-west2/datasets/2753071562834837504\n",
      "Dataset BigQuery source: bq://pa-poc-mlspec-1.playground.taxi_trips\n"
     ]
    }
   ],
   "source": [
    "dataset = vertex_ai.TabularDataset.list(\n",
    "    filter=f\"display_name={DATASET_DISPLAY_NAME}\", \n",
    "    order_by=\"update_time\")[-1]\n",
    "\n",
    "print(\"Dataset resource name:\", dataset.resource_name)\n",
    "print(\"Dataset BigQuery source:\", dataset.gca_resource.metadata['inputConfig']['bigquerySource']['uri'])"
   ]
  }
 ],
 "metadata": {
  "environment": {
   "name": "common-cpu.m79",
   "type": "gcloud",
   "uri": "gcr.io/deeplearning-platform-release/base-cpu:m79"
  },
  "kernelspec": {
   "display_name": "Python 3",
   "language": "python",
   "name": "python3"
  },
  "language_info": {
   "codemirror_mode": {
    "name": "ipython",
    "version": 3
   },
   "file_extension": ".py",
   "mimetype": "text/x-python",
   "name": "python",
   "nbconvert_exporter": "python",
   "pygments_lexer": "ipython3",
   "version": "3.9.7"
  }
 },
 "nbformat": 4,
 "nbformat_minor": 5
}
