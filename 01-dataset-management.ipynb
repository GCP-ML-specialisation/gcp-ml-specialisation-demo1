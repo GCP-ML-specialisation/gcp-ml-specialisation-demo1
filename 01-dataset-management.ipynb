{
 "cells": [
  {
   "cell_type": "markdown",
   "id": "e8ba7f4f",
   "metadata": {},
   "source": [
    "# 01 - Data Analysis and Preparation\n",
    "\n",
    "This notebook covers the following tasks:\n",
    "\n",
    "1. Perform exploratory data analysis and visualization.\n",
    "2. Prepare the data for the ML task in BigQuery.\n",
    "3. Generate and fix a ` TFDV schema` for the source data.\n",
    "4. Create a `Vertex Dataset resource` dataset.\n"
   ]
  },
  {
   "cell_type": "markdown",
   "id": "b481a247",
   "metadata": {},
   "source": [
    "## Dataset\n",
    "\n",
    "The [Chicago Taxi Trips](https://pantheon.corp.google.com/marketplace/details/city-of-chicago-public-data/chicago-taxi-trips) dataset is one of [public datasets hosted with BigQuery](https://cloud.google.com/bigquery/public-data/), which includes taxi trips from 2013 to the present, reported to the City of Chicago in its role as a regulatory agency. The `taxi_trips` table size is 70.72 GB and includes more than 195 million records. The dataset includes information about the trips, like pickup and dropoff datetime and location, passengers count, miles travelled, and trip toll. \n",
    "\n",
    "The ML task is to predict whether a given trip will result in a tip > 20%."
   ]
  },
  {
   "cell_type": "markdown",
   "id": "4fedd0ac",
   "metadata": {},
   "source": [
    "## Setup"
   ]
  },
  {
   "cell_type": "markdown",
   "id": "b25967c9",
   "metadata": {},
   "source": [
    "### Import libraries"
   ]
  },
  {
   "cell_type": "code",
   "execution_count": 1,
   "id": "fa2cf3f1",
   "metadata": {},
   "outputs": [
    {
     "name": "stdout",
     "output_type": "stream",
     "text": [
      "WARNING:tensorflow:From c:\\Users\\MANSM\\Demo\\GCPML-ChicagoTaxi\\.venv\\lib\\site-packages\\tfx_bsl\\types\\common_types.py:26: The name tf.SparseTensorValue is deprecated. Please use tf.compat.v1.SparseTensorValue instead.\n",
      "\n",
      "WARNING:tensorflow:From c:\\Users\\MANSM\\Demo\\GCPML-ChicagoTaxi\\.venv\\lib\\site-packages\\tfx_bsl\\types\\common_types.py:27: The name tf.ragged.RaggedTensorValue is deprecated. Please use tf.compat.v1.ragged.RaggedTensorValue instead.\n",
      "\n"
     ]
    }
   ],
   "source": [
    "import os\n",
    "import pandas as pd\n",
    "import tensorflow as tf\n",
    "import tensorflow_data_validation as tfdv\n",
    "from google.cloud import bigquery\n",
    "import matplotlib.pyplot as plt\n",
    "\n",
    "from google.cloud import aiplatform as vertex_ai"
   ]
  },
  {
   "cell_type": "markdown",
   "id": "9bd0ee37",
   "metadata": {},
   "source": [
    "### Setup Google Cloud project"
   ]
  },
  {
   "cell_type": "code",
   "execution_count": 32,
   "id": "c7e4712e",
   "metadata": {},
   "outputs": [],
   "source": [
    "PROJECT = 'pa-poc-mlspec-1' # Change to your project id.\n",
    "REGION = 'us-west2' #'us-west2' #'europe-west2' # Change to your region."
   ]
  },
  {
   "cell_type": "markdown",
   "id": "384a817b",
   "metadata": {},
   "source": [
    "### Set configurations"
   ]
  },
  {
   "cell_type": "code",
   "execution_count": 33,
   "id": "b71d0738",
   "metadata": {},
   "outputs": [],
   "source": [
    "BQ_DATASET_NAME = 'playground' # Change to your BQ dataset name.\n",
    "BQ_TABLE_NAME = 'taxi_trips'\n",
    "BQ_LOCATION = 'US'\n",
    "\n",
    "DATASET_DISPLAY_NAME = 'chicago-taxi-tips'\n",
    "\n",
    "RAW_SCHEMA_DIR = 'src/raw_schema'"
   ]
  },
  {
   "cell_type": "markdown",
   "id": "39395512",
   "metadata": {},
   "source": [
    "## 1. Explore the data in BigQuery"
   ]
  },
  {
   "cell_type": "code",
   "execution_count": 34,
   "id": "e7008360",
   "metadata": {},
   "outputs": [
    {
     "name": "stdout",
     "output_type": "stream",
     "text": [
      "The google.cloud.bigquery extension is already loaded. To reload it, use:\n",
      "  %reload_ext google.cloud.bigquery\n"
     ]
    }
   ],
   "source": [
    "%load_ext google.cloud.bigquery"
   ]
  },
  {
   "cell_type": "code",
   "execution_count": 35,
   "id": "76f88106",
   "metadata": {},
   "outputs": [
    {
     "name": "stderr",
     "output_type": "stream",
     "text": [
      "c:\\Users\\MANSM\\Demo\\GCPML-ChicagoTaxi\\.venv\\lib\\site-packages\\google\\cloud\\bigquery\\table.py:2309: UserWarning: Unable to represent RANGE schema as struct using pandas ArrowDtype. Using `object` instead. To use ArrowDtype, use pandas >= 1.5 and pyarrow >= 10.0.1.\n",
      "  warnings.warn(_RANGE_PYARROW_WARNING)\n",
      "c:\\Users\\MANSM\\Demo\\GCPML-ChicagoTaxi\\.venv\\lib\\site-packages\\google\\cloud\\bigquery\\table.py:2323: UserWarning: Unable to represent RANGE schema as struct using pandas ArrowDtype. Using `object` instead. To use ArrowDtype, use pandas >= 1.5 and pyarrow >= 10.0.1.\n",
      "  warnings.warn(_RANGE_PYARROW_WARNING)\n",
      "c:\\Users\\MANSM\\Demo\\GCPML-ChicagoTaxi\\.venv\\lib\\site-packages\\google\\cloud\\bigquery\\table.py:2337: UserWarning: Unable to represent RANGE schema as struct using pandas ArrowDtype. Using `object` instead. To use ArrowDtype, use pandas >= 1.5 and pyarrow >= 10.0.1.\n",
      "  warnings.warn(_RANGE_PYARROW_WARNING)\n"
     ]
    }
   ],
   "source": [
    "# Run the BigQuery query\n",
    "from google.cloud import bigquery\n",
    "\n",
    "client = bigquery.Client()\n",
    "\n",
    "query = \"\"\"\n",
    "SELECT \n",
    "    CAST(EXTRACT(DAYOFWEEK FROM trip_start_timestamp) AS string) AS trip_dayofweek, \n",
    "    FORMAT_DATE('%A', CAST(trip_start_timestamp AS DATE)) AS trip_dayname,\n",
    "    COUNT(*) AS trip_count\n",
    "FROM `pa-poc-mlspec-1.chicago_taxi_trips.taxi_trips`\n",
    "WHERE EXTRACT(YEAR FROM trip_start_timestamp) = 2015 \n",
    "GROUP BY trip_dayofweek, trip_dayname\n",
    "ORDER BY trip_dayofweek\n",
    "\"\"\"\n",
    "\n",
    "# Run the query and convert to a pandas DataFrame\n",
    "df = client.query(query).to_dataframe()\n"
   ]
  },
  {
   "cell_type": "code",
   "execution_count": null,
   "id": "9e4300d3",
   "metadata": {},
   "outputs": [],
   "source": [
    "# %%bigquery data\n",
    "\n",
    "# SELECT \n",
    "#     CAST(EXTRACT(DAYOFWEEK FROM trip_start_timestamp) AS string) AS trip_dayofweek, \n",
    "#     FORMAT_DATE('%A',cast(trip_start_timestamp as date)) AS trip_dayname,\n",
    "#     COUNT(*) as trip_count,\n",
    "# FROM `pa-poc-mlspec-1.chicago_taxi_trips.taxi_trips`\n",
    "# WHERE\n",
    "#     EXTRACT(YEAR FROM trip_start_timestamp) = 2015 \n",
    "# GROUP BY\n",
    "#     trip_dayofweek,\n",
    "#     trip_dayname\n",
    "# ORDER BY\n",
    "#     trip_dayofweek\n",
    "# ;"
   ]
  },
  {
   "cell_type": "code",
   "execution_count": 36,
   "id": "a7f2447e",
   "metadata": {},
   "outputs": [
    {
     "data": {
      "text/plain": [
       "<Axes: xlabel='trip_dayname'>"
      ]
     },
     "execution_count": 36,
     "metadata": {},
     "output_type": "execute_result"
    },
    {
     "data": {
      "image/png": "[encoded data removed]",
      "text/plain": [
       "<Figure size 640x480 with 1 Axes>"
      ]
     },
     "metadata": {},
     "output_type": "display_data"
    }
   ],
   "source": [
    "df.plot(kind='bar', x='trip_dayname', y='trip_count')"
   ]
  },
  {
   "cell_type": "markdown",
   "id": "a7782c69",
   "metadata": {},
   "source": [
    "## 2. Create data for the ML task\n",
    "\n",
    "We add a `ML_use` column for pre-splitting the data, where 80% of the datsa items are set to `UNASSIGNED` while the other 20% is set to `TEST`.\n",
    "\n",
    "This column is used during training to split the dataset for training and test.\n",
    "\n",
    "In the training phase, the `UNASSIGNED` are split into `train` and `eval`. The `TEST` split is will be used for the final model validation."
   ]
  },
  {
   "cell_type": "markdown",
   "id": "7987d132",
   "metadata": {},
   "source": [
    "### Create destination BigQuery dataset"
   ]
  },
  {
   "cell_type": "code",
   "execution_count": 38,
   "id": "56a7f6d6",
   "metadata": {},
   "outputs": [
    {
     "name": "stdout",
     "output_type": "stream",
     "text": [
      "Dataset 'pa-poc-mlspec-1:playground' successfully created.\n"
     ]
    }
   ],
   "source": [
    "!bq --location=$BQ_LOCATION mk -d \\\n",
    "$PROJECT:$BQ_DATASET_NAME"
   ]
  },
  {
   "cell_type": "code",
   "execution_count": 39,
   "id": "832f99ba",
   "metadata": {},
   "outputs": [],
   "source": [
    "sample_size = 1000000\n",
    "year = 2020"
   ]
  },
  {
   "cell_type": "code",
   "execution_count": 40,
   "id": "1b19789f",
   "metadata": {},
   "outputs": [],
   "source": [
    "# sql_script = '''\n",
    "# CREATE OR REPLACE TABLE `@PROJECT.@DATASET.@TABLE` \n",
    "# AS (\n",
    "#     WITH\n",
    "#       taxitrips AS (\n",
    "#       SELECT\n",
    "#         trip_start_timestamp,\n",
    "#         trip_seconds,\n",
    "#         trip_miles,\n",
    "#         payment_type,\n",
    "#         pickup_longitude,\n",
    "#         pickup_latitude,\n",
    "#         dropoff_longitude,\n",
    "#         dropoff_latitude,\n",
    "#         tips,\n",
    "#         fare\n",
    "#       FROM\n",
    "#         `prj-dev-mlct-flt-01-0a04.chicago_taxi_trips.taxi_trips`\n",
    "#       WHERE 1=1 \n",
    "#       AND pickup_longitude IS NOT NULL\n",
    "#       AND pickup_latitude IS NOT NULL\n",
    "#       AND dropoff_longitude IS NOT NULL\n",
    "#       AND dropoff_latitude IS NOT NULL\n",
    "#       AND trip_miles > 0\n",
    "#       AND trip_seconds > 0\n",
    "#       AND fare > 0\n",
    "#       AND EXTRACT(YEAR FROM trip_start_timestamp) = @YEAR\n",
    "#     )\n",
    "\n",
    "#     SELECT\n",
    "#       trip_start_timestamp,\n",
    "#       EXTRACT(MONTH from trip_start_timestamp) as trip_month,\n",
    "#       EXTRACT(DAY from trip_start_timestamp) as trip_day,\n",
    "#       EXTRACT(DAYOFWEEK from trip_start_timestamp) as trip_day_of_week,\n",
    "#       EXTRACT(HOUR from trip_start_timestamp) as trip_hour,\n",
    "#       trip_seconds,\n",
    "#       trip_miles,\n",
    "#       payment_type,\n",
    "#       ST_AsText(\n",
    "#           ST_SnapToGrid(ST_GeogPoint(pickup_longitude, pickup_latitude), 0.1)\n",
    "#       ) AS pickup_grid,\n",
    "#       ST_AsText(\n",
    "#           ST_SnapToGrid(ST_GeogPoint(dropoff_longitude, dropoff_latitude), 0.1)\n",
    "#       ) AS dropoff_grid,\n",
    "#       ST_Distance(\n",
    "#           ST_GeogPoint(pickup_longitude, pickup_latitude), \n",
    "#           ST_GeogPoint(dropoff_longitude, dropoff_latitude)\n",
    "#       ) AS euclidean,\n",
    "#       CONCAT(\n",
    "#           ST_AsText(ST_SnapToGrid(ST_GeogPoint(pickup_longitude,\n",
    "#               pickup_latitude), 0.1)), \n",
    "#           ST_AsText(ST_SnapToGrid(ST_GeogPoint(dropoff_longitude,\n",
    "#               dropoff_latitude), 0.1))\n",
    "#       ) AS loc_cross,\n",
    "#       IF((tips/fare >= 0.2), 1, 0) AS tip_bin,\n",
    "#       IF(RAND() <= 0.8, 'UNASSIGNED', 'TEST') AS ML_use\n",
    "#     FROM\n",
    "#       taxitrips\n",
    "#     LIMIT @LIMIT\n",
    "# )\n",
    "# '''"
   ]
  },
  {
   "cell_type": "code",
   "execution_count": 41,
   "id": "45ff08bb",
   "metadata": {},
   "outputs": [],
   "source": [
    "sql_script = ''' \n",
    "CREATE OR REPLACE TABLE `@PROJECT.@DATASET.@TABLE` \n",
    "AS (\n",
    "    WITH\n",
    "      taxitrips AS (\n",
    "      SELECT\n",
    "        trip_start_timestamp,\n",
    "        trip_seconds,\n",
    "        trip_miles,\n",
    "        payment_type,\n",
    "        pickup_longitude,\n",
    "        pickup_latitude,\n",
    "        dropoff_longitude,\n",
    "        dropoff_latitude,\n",
    "        tips,\n",
    "        fare,\n",
    "        dropoff_community_area\n",
    "      FROM\n",
    "        `pa-poc-mlspec-1.chicago_taxi_trips.taxi_trips`\n",
    "      WHERE 1=1 \n",
    "      AND pickup_longitude IS NOT NULL\n",
    "      AND pickup_latitude IS NOT NULL\n",
    "      AND dropoff_longitude IS NOT NULL\n",
    "      AND dropoff_latitude IS NOT NULL\n",
    "      AND trip_miles > 0\n",
    "      AND trip_seconds > 0\n",
    "      AND fare > 0\n",
    "      AND EXTRACT(YEAR FROM trip_start_timestamp) = @YEAR\n",
    "    ),\n",
    "\n",
    "    community_names AS (\n",
    "      SELECT\n",
    "        dropoff_community_area,\n",
    "        community_name\n",
    "      FROM\n",
    "        `pa-poc-mlspec-1.chicago_taxi_trips.chicago_area`\n",
    "    ),\n",
    "\n",
    "    total_arrests AS (\n",
    "      SELECT\n",
    "        community_area as dropoff_community_area,\n",
    "        COUNT(*) AS total_arrests\n",
    "      FROM\n",
    "        `pa-poc-mlspec-1.chicago_taxi_trips.chicago_crimes`\n",
    "      WHERE\n",
    "        year = @YEAR\n",
    "      GROUP BY\n",
    "        community_area\n",
    "    )\n",
    "\n",
    "    SELECT\n",
    "      trip_start_timestamp,\n",
    "      EXTRACT(MONTH from trip_start_timestamp) as trip_month,\n",
    "      EXTRACT(DAY from trip_start_timestamp) as trip_day,\n",
    "      EXTRACT(DAYOFWEEK from trip_start_timestamp) as trip_day_of_week,\n",
    "      EXTRACT(HOUR from trip_start_timestamp) as trip_hour,\n",
    "      trip_seconds,\n",
    "      trip_miles,\n",
    "      payment_type,\n",
    "      ST_AsText(\n",
    "          ST_SnapToGrid(ST_GeogPoint(pickup_longitude, pickup_latitude), 0.1)\n",
    "      ) AS pickup_grid,\n",
    "      ST_AsText(\n",
    "          ST_SnapToGrid(ST_GeogPoint(dropoff_longitude, dropoff_latitude), 0.1)\n",
    "      ) AS dropoff_grid,\n",
    "      ST_Distance(\n",
    "          ST_GeogPoint(pickup_longitude, pickup_latitude), \n",
    "          ST_GeogPoint(dropoff_longitude, dropoff_latitude)\n",
    "      ) AS euclidean,\n",
    "      CONCAT(\n",
    "          ST_AsText(ST_SnapToGrid(ST_GeogPoint(pickup_longitude,\n",
    "              pickup_latitude), 0.1)), \n",
    "          ST_AsText(ST_SnapToGrid(ST_GeogPoint(dropoff_longitude,\n",
    "              dropoff_latitude), 0.1))\n",
    "      ) AS loc_cross,\n",
    "      IF((tips/fare >= 0.2), 1, 0) AS tip_bin,\n",
    "      IF(RAND() <= 0.8, 'UNASSIGNED', 'TEST') AS ML_use,\n",
    "      ca.community_name,\n",
    "      ta.total_arrests\n",
    "    FROM\n",
    "      taxitrips tt\n",
    "    LEFT JOIN\n",
    "      community_names ca\n",
    "    ON\n",
    "      tt.dropoff_community_area = ca.dropoff_community_area\n",
    "    LEFT JOIN\n",
    "      total_arrests ta\n",
    "    ON\n",
    "      tt.dropoff_community_area = ta.dropoff_community_area\n",
    "    LIMIT @LIMIT\n",
    ")\n",
    "\n",
    "'''"
   ]
  },
  {
   "cell_type": "code",
   "execution_count": 42,
   "id": "6f1d2837",
   "metadata": {},
   "outputs": [],
   "source": [
    "sql_script = sql_script.replace(\n",
    "    '@PROJECT', PROJECT).replace(\n",
    "    '@DATASET', BQ_DATASET_NAME).replace(\n",
    "    '@TABLE', BQ_TABLE_NAME).replace(\n",
    "    '@YEAR', str(year)).replace(\n",
    "    '@LIMIT', str(sample_size))"
   ]
  },
  {
   "cell_type": "code",
   "execution_count": 43,
   "id": "88f31e8c",
   "metadata": {},
   "outputs": [],
   "source": [
    "bq_client = bigquery.Client(project=PROJECT, location=BQ_LOCATION)\n",
    "job = bq_client.query(sql_script)\n",
    "_ = job.result()"
   ]
  },
  {
   "cell_type": "code",
   "execution_count": 44,
   "id": "b32eea6f",
   "metadata": {},
   "outputs": [
    {
     "data": {
      "application/vnd.jupyter.widget-view+json": {
       "model_id": "a21aab8d11034a89b5ad0b648e61e135",
       "version_major": 2,
       "version_minor": 0
      },
      "text/plain": [
       "Query is running:   0%|          |"
      ]
     },
     "metadata": {},
     "output_type": "display_data"
    },
    {
     "name": "stderr",
     "output_type": "stream",
     "text": [
      "c:\\Users\\MANSM\\Demo\\GCPML-ChicagoTaxi\\.venv\\lib\\site-packages\\google\\cloud\\bigquery\\table.py:2309: UserWarning: Unable to represent RANGE schema as struct using pandas ArrowDtype. Using `object` instead. To use ArrowDtype, use pandas >= 1.5 and pyarrow >= 10.0.1.\n",
      "  warnings.warn(_RANGE_PYARROW_WARNING)\n",
      "c:\\Users\\MANSM\\Demo\\GCPML-ChicagoTaxi\\.venv\\lib\\site-packages\\google\\cloud\\bigquery\\table.py:2323: UserWarning: Unable to represent RANGE schema as struct using pandas ArrowDtype. Using `object` instead. To use ArrowDtype, use pandas >= 1.5 and pyarrow >= 10.0.1.\n",
      "  warnings.warn(_RANGE_PYARROW_WARNING)\n",
      "c:\\Users\\MANSM\\Demo\\GCPML-ChicagoTaxi\\.venv\\lib\\site-packages\\google\\cloud\\bigquery\\table.py:2337: UserWarning: Unable to represent RANGE schema as struct using pandas ArrowDtype. Using `object` instead. To use ArrowDtype, use pandas >= 1.5 and pyarrow >= 10.0.1.\n",
      "  warnings.warn(_RANGE_PYARROW_WARNING)\n"
     ]
    },
    {
     "data": {
      "application/vnd.jupyter.widget-view+json": {
       "model_id": "114e1509da4a404abfe841ca174bf733",
       "version_major": 2,
       "version_minor": 0
      },
      "text/plain": [
       "Downloading:   0%|          |"
      ]
     },
     "metadata": {},
     "output_type": "display_data"
    },
    {
     "data": {
      "text/html": [
       "<div>\n",
       "<style scoped>\n",
       "    .dataframe tbody tr th:only-of-type {\n",
       "        vertical-align: middle;\n",
       "    }\n",
       "\n",
       "    .dataframe tbody tr th {\n",
       "        vertical-align: top;\n",
       "    }\n",
       "\n",
       "    .dataframe thead th {\n",
       "        text-align: right;\n",
       "    }\n",
       "</style>\n",
       "<table border=\"1\" class=\"dataframe\">\n",
       "  <thead>\n",
       "    <tr style=\"text-align: right;\">\n",
       "      <th></th>\n",
       "      <th>ML_use</th>\n",
       "      <th>f0_</th>\n",
       "    </tr>\n",
       "  </thead>\n",
       "  <tbody>\n",
       "    <tr>\n",
       "      <th>0</th>\n",
       "      <td>UNASSIGNED</td>\n",
       "      <td>800148</td>\n",
       "    </tr>\n",
       "    <tr>\n",
       "      <th>1</th>\n",
       "      <td>TEST</td>\n",
       "      <td>199852</td>\n",
       "    </tr>\n",
       "  </tbody>\n",
       "</table>\n",
       "</div>"
      ],
      "text/plain": [
       "       ML_use     f0_\n",
       "0  UNASSIGNED  800148\n",
       "1        TEST  199852"
      ]
     },
     "execution_count": 44,
     "metadata": {},
     "output_type": "execute_result"
    }
   ],
   "source": [
    "%%bigquery --project {PROJECT}\n",
    "\n",
    "SELECT ML_use, COUNT(*)\n",
    "FROM playground.taxi_trips # Change to your BQ dataset and table names.\n",
    "GROUP BY ML_use"
   ]
  },
  {
   "cell_type": "markdown",
   "id": "7fcc75fc",
   "metadata": {},
   "source": [
    "### Load a sample data to a Pandas DataFrame"
   ]
  },
  {
   "cell_type": "code",
   "execution_count": 45,
   "id": "f252a846",
   "metadata": {},
   "outputs": [
    {
     "data": {
      "application/vnd.jupyter.widget-view+json": {
       "model_id": "8a56a28a74494c418b72f9381b7d55da",
       "version_major": 2,
       "version_minor": 0
      },
      "text/plain": [
       "Query is running:   0%|          |"
      ]
     },
     "metadata": {},
     "output_type": "display_data"
    },
    {
     "name": "stderr",
     "output_type": "stream",
     "text": [
      "c:\\Users\\MANSM\\Demo\\GCPML-ChicagoTaxi\\.venv\\lib\\site-packages\\google\\cloud\\bigquery\\table.py:2309: UserWarning: Unable to represent RANGE schema as struct using pandas ArrowDtype. Using `object` instead. To use ArrowDtype, use pandas >= 1.5 and pyarrow >= 10.0.1.\n",
      "  warnings.warn(_RANGE_PYARROW_WARNING)\n",
      "c:\\Users\\MANSM\\Demo\\GCPML-ChicagoTaxi\\.venv\\lib\\site-packages\\google\\cloud\\bigquery\\table.py:2323: UserWarning: Unable to represent RANGE schema as struct using pandas ArrowDtype. Using `object` instead. To use ArrowDtype, use pandas >= 1.5 and pyarrow >= 10.0.1.\n",
      "  warnings.warn(_RANGE_PYARROW_WARNING)\n",
      "c:\\Users\\MANSM\\Demo\\GCPML-ChicagoTaxi\\.venv\\lib\\site-packages\\google\\cloud\\bigquery\\table.py:2337: UserWarning: Unable to represent RANGE schema as struct using pandas ArrowDtype. Using `object` instead. To use ArrowDtype, use pandas >= 1.5 and pyarrow >= 10.0.1.\n",
      "  warnings.warn(_RANGE_PYARROW_WARNING)\n"
     ]
    },
    {
     "data": {
      "application/vnd.jupyter.widget-view+json": {
       "model_id": "fc3feb87f6804183a0c96ffbc61f2dcc",
       "version_major": 2,
       "version_minor": 0
      },
      "text/plain": [
       "Downloading:   0%|          |"
      ]
     },
     "metadata": {},
     "output_type": "display_data"
    }
   ],
   "source": [
    "%%bigquery sample_data --project {PROJECT}\n",
    "\n",
    "SELECT * EXCEPT (trip_start_timestamp, ML_use)\n",
    "FROM playground.taxi_trips # Change to your BQ dataset and table names."
   ]
  },
  {
   "cell_type": "code",
   "execution_count": 46,
   "id": "798809d2",
   "metadata": {},
   "outputs": [
    {
     "data": {
      "text/html": [
       "<div>\n",
       "<style scoped>\n",
       "    .dataframe tbody tr th:only-of-type {\n",
       "        vertical-align: middle;\n",
       "    }\n",
       "\n",
       "    .dataframe tbody tr th {\n",
       "        vertical-align: top;\n",
       "    }\n",
       "\n",
       "    .dataframe thead th {\n",
       "        text-align: right;\n",
       "    }\n",
       "</style>\n",
       "<table border=\"1\" class=\"dataframe\">\n",
       "  <thead>\n",
       "    <tr style=\"text-align: right;\">\n",
       "      <th></th>\n",
       "      <th>0</th>\n",
       "      <th>1</th>\n",
       "      <th>2</th>\n",
       "      <th>3</th>\n",
       "      <th>4</th>\n",
       "    </tr>\n",
       "  </thead>\n",
       "  <tbody>\n",
       "    <tr>\n",
       "      <th>trip_month</th>\n",
       "      <td>1</td>\n",
       "      <td>2</td>\n",
       "      <td>1</td>\n",
       "      <td>2</td>\n",
       "      <td>1</td>\n",
       "    </tr>\n",
       "    <tr>\n",
       "      <th>trip_day</th>\n",
       "      <td>19</td>\n",
       "      <td>10</td>\n",
       "      <td>29</td>\n",
       "      <td>7</td>\n",
       "      <td>8</td>\n",
       "    </tr>\n",
       "    <tr>\n",
       "      <th>trip_day_of_week</th>\n",
       "      <td>1</td>\n",
       "      <td>2</td>\n",
       "      <td>4</td>\n",
       "      <td>6</td>\n",
       "      <td>4</td>\n",
       "    </tr>\n",
       "    <tr>\n",
       "      <th>trip_hour</th>\n",
       "      <td>0</td>\n",
       "      <td>17</td>\n",
       "      <td>7</td>\n",
       "      <td>11</td>\n",
       "      <td>10</td>\n",
       "    </tr>\n",
       "    <tr>\n",
       "      <th>trip_seconds</th>\n",
       "      <td>356</td>\n",
       "      <td>621</td>\n",
       "      <td>7</td>\n",
       "      <td>229</td>\n",
       "      <td>180</td>\n",
       "    </tr>\n",
       "    <tr>\n",
       "      <th>trip_miles</th>\n",
       "      <td>1.64</td>\n",
       "      <td>1.1</td>\n",
       "      <td>0.03</td>\n",
       "      <td>0.49</td>\n",
       "      <td>0.7</td>\n",
       "    </tr>\n",
       "    <tr>\n",
       "      <th>payment_type</th>\n",
       "      <td>Cash</td>\n",
       "      <td>Credit Card</td>\n",
       "      <td>Cash</td>\n",
       "      <td>Cash</td>\n",
       "      <td>Cash</td>\n",
       "    </tr>\n",
       "    <tr>\n",
       "      <th>pickup_grid</th>\n",
       "      <td>POINT(-87.6 42)</td>\n",
       "      <td>POINT(-87.6 42)</td>\n",
       "      <td>POINT(-87.6 42)</td>\n",
       "      <td>POINT(-87.6 42)</td>\n",
       "      <td>POINT(-87.6 42)</td>\n",
       "    </tr>\n",
       "    <tr>\n",
       "      <th>dropoff_grid</th>\n",
       "      <td>POINT(-87.6 42)</td>\n",
       "      <td>POINT(-87.6 42)</td>\n",
       "      <td>POINT(-87.6 42)</td>\n",
       "      <td>POINT(-87.6 42)</td>\n",
       "      <td>POINT(-87.6 42)</td>\n",
       "    </tr>\n",
       "    <tr>\n",
       "      <th>euclidean</th>\n",
       "      <td>0.0</td>\n",
       "      <td>0.0</td>\n",
       "      <td>0.0</td>\n",
       "      <td>0.0</td>\n",
       "      <td>0.0</td>\n",
       "    </tr>\n",
       "    <tr>\n",
       "      <th>loc_cross</th>\n",
       "      <td>POINT(-87.6 42)POINT(-87.6 42)</td>\n",
       "      <td>POINT(-87.6 42)POINT(-87.6 42)</td>\n",
       "      <td>POINT(-87.6 42)POINT(-87.6 42)</td>\n",
       "      <td>POINT(-87.6 42)POINT(-87.6 42)</td>\n",
       "      <td>POINT(-87.6 42)POINT(-87.6 42)</td>\n",
       "    </tr>\n",
       "    <tr>\n",
       "      <th>tip_bin</th>\n",
       "      <td>0</td>\n",
       "      <td>1</td>\n",
       "      <td>0</td>\n",
       "      <td>0</td>\n",
       "      <td>0</td>\n",
       "    </tr>\n",
       "    <tr>\n",
       "      <th>community_name</th>\n",
       "      <td>Uptown</td>\n",
       "      <td>Uptown</td>\n",
       "      <td>Uptown</td>\n",
       "      <td>Uptown</td>\n",
       "      <td>Uptown</td>\n",
       "    </tr>\n",
       "    <tr>\n",
       "      <th>total_arrests</th>\n",
       "      <td>2963</td>\n",
       "      <td>2963</td>\n",
       "      <td>2963</td>\n",
       "      <td>2963</td>\n",
       "      <td>2963</td>\n",
       "    </tr>\n",
       "  </tbody>\n",
       "</table>\n",
       "</div>"
      ],
      "text/plain": [
       "                                               0  \\\n",
       "trip_month                                     1   \n",
       "trip_day                                      19   \n",
       "trip_day_of_week                               1   \n",
       "trip_hour                                      0   \n",
       "trip_seconds                                 356   \n",
       "trip_miles                                  1.64   \n",
       "payment_type                                Cash   \n",
       "pickup_grid                      POINT(-87.6 42)   \n",
       "dropoff_grid                     POINT(-87.6 42)   \n",
       "euclidean                                    0.0   \n",
       "loc_cross         POINT(-87.6 42)POINT(-87.6 42)   \n",
       "tip_bin                                        0   \n",
       "community_name                            Uptown   \n",
       "total_arrests                               2963   \n",
       "\n",
       "                                               1  \\\n",
       "trip_month                                     2   \n",
       "trip_day                                      10   \n",
       "trip_day_of_week                               2   \n",
       "trip_hour                                     17   \n",
       "trip_seconds                                 621   \n",
       "trip_miles                                   1.1   \n",
       "payment_type                         Credit Card   \n",
       "pickup_grid                      POINT(-87.6 42)   \n",
       "dropoff_grid                     POINT(-87.6 42)   \n",
       "euclidean                                    0.0   \n",
       "loc_cross         POINT(-87.6 42)POINT(-87.6 42)   \n",
       "tip_bin                                        1   \n",
       "community_name                            Uptown   \n",
       "total_arrests                               2963   \n",
       "\n",
       "                                               2  \\\n",
       "trip_month                                     1   \n",
       "trip_day                                      29   \n",
       "trip_day_of_week                               4   \n",
       "trip_hour                                      7   \n",
       "trip_seconds                                   7   \n",
       "trip_miles                                  0.03   \n",
       "payment_type                                Cash   \n",
       "pickup_grid                      POINT(-87.6 42)   \n",
       "dropoff_grid                     POINT(-87.6 42)   \n",
       "euclidean                                    0.0   \n",
       "loc_cross         POINT(-87.6 42)POINT(-87.6 42)   \n",
       "tip_bin                                        0   \n",
       "community_name                            Uptown   \n",
       "total_arrests                               2963   \n",
       "\n",
       "                                               3  \\\n",
       "trip_month                                     2   \n",
       "trip_day                                       7   \n",
       "trip_day_of_week                               6   \n",
       "trip_hour                                     11   \n",
       "trip_seconds                                 229   \n",
       "trip_miles                                  0.49   \n",
       "payment_type                                Cash   \n",
       "pickup_grid                      POINT(-87.6 42)   \n",
       "dropoff_grid                     POINT(-87.6 42)   \n",
       "euclidean                                    0.0   \n",
       "loc_cross         POINT(-87.6 42)POINT(-87.6 42)   \n",
       "tip_bin                                        0   \n",
       "community_name                            Uptown   \n",
       "total_arrests                               2963   \n",
       "\n",
       "                                               4  \n",
       "trip_month                                     1  \n",
       "trip_day                                       8  \n",
       "trip_day_of_week                               4  \n",
       "trip_hour                                     10  \n",
       "trip_seconds                                 180  \n",
       "trip_miles                                   0.7  \n",
       "payment_type                                Cash  \n",
       "pickup_grid                      POINT(-87.6 42)  \n",
       "dropoff_grid                     POINT(-87.6 42)  \n",
       "euclidean                                    0.0  \n",
       "loc_cross         POINT(-87.6 42)POINT(-87.6 42)  \n",
       "tip_bin                                        0  \n",
       "community_name                            Uptown  \n",
       "total_arrests                               2963  "
      ]
     },
     "execution_count": 46,
     "metadata": {},
     "output_type": "execute_result"
    }
   ],
   "source": [
    "sample_data.head().T"
   ]
  },
  {
   "cell_type": "code",
   "execution_count": 47,
   "id": "23595838",
   "metadata": {},
   "outputs": [
    {
     "data": {
      "text/plain": [
       "0    691318\n",
       "1    308682\n",
       "Name: tip_bin, dtype: Int64"
      ]
     },
     "execution_count": 47,
     "metadata": {},
     "output_type": "execute_result"
    }
   ],
   "source": [
    "sample_data.tip_bin.value_counts()"
   ]
  },
  {
   "cell_type": "code",
   "execution_count": 48,
   "id": "3d06bb64",
   "metadata": {},
   "outputs": [
    {
     "data": {
      "text/plain": [
       "<Axes: >"
      ]
     },
     "execution_count": 48,
     "metadata": {},
     "output_type": "execute_result"
    },
    {
     "data": {
      "image/png": "[encoded data removed]",
      "text/plain": [
       "<Figure size 640x480 with 1 Axes>"
      ]
     },
     "metadata": {},
     "output_type": "display_data"
    }
   ],
   "source": [
    "sample_data.euclidean.hist()"
   ]
  },
  {
   "cell_type": "markdown",
   "id": "10aae180",
   "metadata": {},
   "source": [
    "## 3. Generate raw data schema\n",
    "\n",
    "The [TensorFlow Data Validation (TFDV)](https://www.tensorflow.org/tfx/data_validation/get_started) data schema will be used in:\n",
    "1. Identify the raw data types and shapes in the data transformation.\n",
    "2. Create the serving input signature for the custom model.\n",
    "3. Validate the new raw training data in the TFX pipeline."
   ]
  },
  {
   "cell_type": "code",
   "execution_count": 49,
   "id": "4087d5fa",
   "metadata": {},
   "outputs": [],
   "source": [
    "stats = tfdv.generate_statistics_from_dataframe(\n",
    "    dataframe=sample_data,\n",
    "    stats_options=tfdv.StatsOptions(\n",
    "        label_feature='tip_bin',\n",
    "        weight_feature=None,\n",
    "        sample_rate=1,\n",
    "        num_top_values=50\n",
    "    )\n",
    ")"
   ]
  },
  {
   "cell_type": "code",
   "execution_count": 50,
   "id": "091fbd77",
   "metadata": {},
   "outputs": [
    {
     "data": {
      "text/html": [
       "<iframe id='facets-iframe' width=\"100%\" height=\"500px\"></iframe>\n",
       "        <script>\n",
       "        facets_iframe = document.getElementById('facets-iframe');\n",
       "        facets_html = '<script src=\"https://cdnjs.cloudflare.com/ajax/libs/webcomponentsjs/1.3.3/webcomponents-lite.js\"><\\/script><link rel=\"import\" href=\"https://raw.githubusercontent.com/PAIR-code/facets/master/facets-dist/facets-jupyter.html\"><facets-overview proto-input=\"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\"></facets-overview>';\n",
       "        facets_iframe.srcdoc = facets_html;\n",
       "         facets_iframe.id = \"\";\n",
       "         setTimeout(() => {\n",
       "           facets_iframe.setAttribute('height', facets_iframe.contentWindow.document.body.offsetHeight + 'px')\n",
       "         }, 1500)\n",
       "         </script>"
      ],
      "text/plain": [
       "<IPython.core.display.HTML object>"
      ]
     },
     "metadata": {},
     "output_type": "display_data"
    }
   ],
   "source": [
    "tfdv.visualize_statistics(stats)"
   ]
  },
  {
   "cell_type": "code",
   "execution_count": 51,
   "id": "d251e09b",
   "metadata": {},
   "outputs": [
    {
     "data": {
      "text/html": [
       "<div>\n",
       "<style scoped>\n",
       "    .dataframe tbody tr th:only-of-type {\n",
       "        vertical-align: middle;\n",
       "    }\n",
       "\n",
       "    .dataframe tbody tr th {\n",
       "        vertical-align: top;\n",
       "    }\n",
       "\n",
       "    .dataframe thead th {\n",
       "        text-align: right;\n",
       "    }\n",
       "</style>\n",
       "<table border=\"1\" class=\"dataframe\">\n",
       "  <thead>\n",
       "    <tr style=\"text-align: right;\">\n",
       "      <th></th>\n",
       "      <th>Type</th>\n",
       "      <th>Presence</th>\n",
       "      <th>Valency</th>\n",
       "      <th>Domain</th>\n",
       "    </tr>\n",
       "    <tr>\n",
       "      <th>Feature name</th>\n",
       "      <th></th>\n",
       "      <th></th>\n",
       "      <th></th>\n",
       "      <th></th>\n",
       "    </tr>\n",
       "  </thead>\n",
       "  <tbody>\n",
       "    <tr>\n",
       "      <th>'trip_month'</th>\n",
       "      <td>INT</td>\n",
       "      <td>required</td>\n",
       "      <td></td>\n",
       "      <td>-</td>\n",
       "    </tr>\n",
       "    <tr>\n",
       "      <th>'trip_day'</th>\n",
       "      <td>INT</td>\n",
       "      <td>required</td>\n",
       "      <td></td>\n",
       "      <td>-</td>\n",
       "    </tr>\n",
       "    <tr>\n",
       "      <th>'trip_day_of_week'</th>\n",
       "      <td>INT</td>\n",
       "      <td>required</td>\n",
       "      <td></td>\n",
       "      <td>-</td>\n",
       "    </tr>\n",
       "    <tr>\n",
       "      <th>'trip_hour'</th>\n",
       "      <td>INT</td>\n",
       "      <td>required</td>\n",
       "      <td></td>\n",
       "      <td>-</td>\n",
       "    </tr>\n",
       "    <tr>\n",
       "      <th>'trip_seconds'</th>\n",
       "      <td>INT</td>\n",
       "      <td>required</td>\n",
       "      <td></td>\n",
       "      <td>-</td>\n",
       "    </tr>\n",
       "    <tr>\n",
       "      <th>'trip_miles'</th>\n",
       "      <td>FLOAT</td>\n",
       "      <td>required</td>\n",
       "      <td></td>\n",
       "      <td>-</td>\n",
       "    </tr>\n",
       "    <tr>\n",
       "      <th>'payment_type'</th>\n",
       "      <td>STRING</td>\n",
       "      <td>required</td>\n",
       "      <td></td>\n",
       "      <td>'payment_type'</td>\n",
       "    </tr>\n",
       "    <tr>\n",
       "      <th>'pickup_grid'</th>\n",
       "      <td>STRING</td>\n",
       "      <td>required</td>\n",
       "      <td></td>\n",
       "      <td>'pickup_grid'</td>\n",
       "    </tr>\n",
       "    <tr>\n",
       "      <th>'dropoff_grid'</th>\n",
       "      <td>STRING</td>\n",
       "      <td>required</td>\n",
       "      <td></td>\n",
       "      <td>'dropoff_grid'</td>\n",
       "    </tr>\n",
       "    <tr>\n",
       "      <th>'euclidean'</th>\n",
       "      <td>FLOAT</td>\n",
       "      <td>required</td>\n",
       "      <td></td>\n",
       "      <td>-</td>\n",
       "    </tr>\n",
       "    <tr>\n",
       "      <th>'loc_cross'</th>\n",
       "      <td>BYTES</td>\n",
       "      <td>required</td>\n",
       "      <td></td>\n",
       "      <td>-</td>\n",
       "    </tr>\n",
       "    <tr>\n",
       "      <th>'tip_bin'</th>\n",
       "      <td>INT</td>\n",
       "      <td>required</td>\n",
       "      <td></td>\n",
       "      <td>-</td>\n",
       "    </tr>\n",
       "    <tr>\n",
       "      <th>'community_name'</th>\n",
       "      <td>STRING</td>\n",
       "      <td>optional</td>\n",
       "      <td>single</td>\n",
       "      <td>'community_name'</td>\n",
       "    </tr>\n",
       "    <tr>\n",
       "      <th>'total_arrests'</th>\n",
       "      <td>INT</td>\n",
       "      <td>optional</td>\n",
       "      <td>single</td>\n",
       "      <td>-</td>\n",
       "    </tr>\n",
       "  </tbody>\n",
       "</table>\n",
       "</div>"
      ],
      "text/plain": [
       "                      Type  Presence Valency            Domain\n",
       "Feature name                                                  \n",
       "'trip_month'           INT  required                         -\n",
       "'trip_day'             INT  required                         -\n",
       "'trip_day_of_week'     INT  required                         -\n",
       "'trip_hour'            INT  required                         -\n",
       "'trip_seconds'         INT  required                         -\n",
       "'trip_miles'         FLOAT  required                         -\n",
       "'payment_type'      STRING  required            'payment_type'\n",
       "'pickup_grid'       STRING  required             'pickup_grid'\n",
       "'dropoff_grid'      STRING  required            'dropoff_grid'\n",
       "'euclidean'          FLOAT  required                         -\n",
       "'loc_cross'          BYTES  required                         -\n",
       "'tip_bin'              INT  required                         -\n",
       "'community_name'    STRING  optional  single  'community_name'\n",
       "'total_arrests'        INT  optional  single                 -"
      ]
     },
     "metadata": {},
     "output_type": "display_data"
    },
    {
     "data": {
      "text/html": [
       "<div>\n",
       "<style scoped>\n",
       "    .dataframe tbody tr th:only-of-type {\n",
       "        vertical-align: middle;\n",
       "    }\n",
       "\n",
       "    .dataframe tbody tr th {\n",
       "        vertical-align: top;\n",
       "    }\n",
       "\n",
       "    .dataframe thead th {\n",
       "        text-align: right;\n",
       "    }\n",
       "</style>\n",
       "<table border=\"1\" class=\"dataframe\">\n",
       "  <thead>\n",
       "    <tr style=\"text-align: right;\">\n",
       "      <th></th>\n",
       "      <th>Values</th>\n",
       "    </tr>\n",
       "    <tr>\n",
       "      <th>Domain</th>\n",
       "      <th></th>\n",
       "    </tr>\n",
       "  </thead>\n",
       "  <tbody>\n",
       "    <tr>\n",
       "      <th>'payment_type'</th>\n",
       "      <td>'Cash', 'Credit Card', 'Dispute', 'Mobile', 'No Charge', 'Prcard', 'Prepaid', 'Unknown'</td>\n",
       "    </tr>\n",
       "    <tr>\n",
       "      <th>'pickup_grid'</th>\n",
       "      <td>'POINT(-87.5 41.7)', 'POINT(-87.6 41.7)', 'POINT(-87.6 41.8)', 'POINT(-87.6 41.9)', 'POINT(-87.6 42)', 'POINT(-87.7 41.7)', 'POINT(-87.7 41.8)', 'POINT(-87.7 41.9)', 'POINT(-87.7 42)', 'POINT(-87.8 41.8)', 'POINT(-87.8 41.9)', 'POINT(-87.8 42)', 'POINT(-87.9 42)'</td>\n",
       "    </tr>\n",
       "    <tr>\n",
       "      <th>'dropoff_grid'</th>\n",
       "      <td>'POINT(-87.5 41.7)', 'POINT(-87.6 41.7)', 'POINT(-87.6 41.8)', 'POINT(-87.6 41.9)', 'POINT(-87.6 42)', 'POINT(-87.7 41.7)', 'POINT(-87.7 41.8)', 'POINT(-87.7 41.9)', 'POINT(-87.7 42)', 'POINT(-87.8 41.8)', 'POINT(-87.8 41.9)', 'POINT(-87.8 42)', 'POINT(-87.9 42)'</td>\n",
       "    </tr>\n",
       "    <tr>\n",
       "      <th>'community_name'</th>\n",
       "      <td>'Albany Park', 'Archer Heights', 'Armour Square', 'Ashburn', 'Auburn Gresham', 'Austin', 'Avalon Park', 'Avondale', 'Belmont Cragin', 'Beverly', 'Bridgeport', 'Brighton Park', 'Burnside', 'Calumet Heights', 'Chatham', 'Chicago Lawn', 'Clearing', 'Douglas', 'Dunning', 'East Garfield Park', 'East Side', 'Edgewater', 'Edison Park', 'Englewood', 'Forest Glen', 'Fuller Park', 'Gage Park', 'Garfield Ridge', 'Grand Boulevard', 'Greater Grand Crossing', 'Hegewisch', 'Hermosa', 'Humboldt Park', 'Hyde Park', 'Irving Park', 'Jefferson Park', 'Kenwood', 'Lake View', 'Lincoln Park', 'Lincoln Square', 'Logan Square', 'Loop', 'Lower West Side', 'McKinley Park', 'Montclare', 'Morgan Park', 'Mount Greenwood', 'Near North Side', 'Near South Side', 'Near West Side', 'New City', 'North Center', 'North Lawndale', 'North Park', 'Norwood Park', 'O\\'Hare', 'Oakland', 'Portage Park', 'Pullman', 'Riverdale', 'Rogers Park', 'Roseland', 'South Chicago', 'South Deering', 'South Lawndale', 'South Shore', 'Uptown', 'Washington Heights', 'Washington Park', 'West Elsdon', 'West Englewood', 'West Garfield Park', 'West Lawn', 'West Pullman', 'West Ridge', 'West Town', 'Woodlawn'</td>\n",
       "    </tr>\n",
       "  </tbody>\n",
       "</table>\n",
       "</div>"
      ],
      "text/plain": [
       "                                                                                                                                                                                                                                                                                                                                                                                                                                                                                                                                                                                                                                                                                                                                                                                                                                                                                                                                                                                                                                                                                                                                                                                                                      Values\n",
       "Domain                                                                                                                                                                                                                                                                                                                                                                                                                                                                                                                                                                                                                                                                                                                                                                                                                                                                                                                                                                                                                                                                                                                                                                                                                      \n",
       "'payment_type'                                                                                                                                                                                                                                                                                                                                                                                                                                                                                                                                                                                                                                                                                                                                                                                                                                                                                                                                                                                                                                                                                                                       'Cash', 'Credit Card', 'Dispute', 'Mobile', 'No Charge', 'Prcard', 'Prepaid', 'Unknown'\n",
       "'pickup_grid'                                                                                                                                                                                                                                                                                                                                                                                                                                                                                                                                                                                                                                                                                                                                                                                                                                                                                                                                        'POINT(-87.5 41.7)', 'POINT(-87.6 41.7)', 'POINT(-87.6 41.8)', 'POINT(-87.6 41.9)', 'POINT(-87.6 42)', 'POINT(-87.7 41.7)', 'POINT(-87.7 41.8)', 'POINT(-87.7 41.9)', 'POINT(-87.7 42)', 'POINT(-87.8 41.8)', 'POINT(-87.8 41.9)', 'POINT(-87.8 42)', 'POINT(-87.9 42)'\n",
       "'dropoff_grid'                                                                                                                                                                                                                                                                                                                                                                                                                                                                                                                                                                                                                                                                                                                                                                                                                                                                                                                                       'POINT(-87.5 41.7)', 'POINT(-87.6 41.7)', 'POINT(-87.6 41.8)', 'POINT(-87.6 41.9)', 'POINT(-87.6 42)', 'POINT(-87.7 41.7)', 'POINT(-87.7 41.8)', 'POINT(-87.7 41.9)', 'POINT(-87.7 42)', 'POINT(-87.8 41.8)', 'POINT(-87.8 41.9)', 'POINT(-87.8 42)', 'POINT(-87.9 42)'\n",
       "'community_name'  'Albany Park', 'Archer Heights', 'Armour Square', 'Ashburn', 'Auburn Gresham', 'Austin', 'Avalon Park', 'Avondale', 'Belmont Cragin', 'Beverly', 'Bridgeport', 'Brighton Park', 'Burnside', 'Calumet Heights', 'Chatham', 'Chicago Lawn', 'Clearing', 'Douglas', 'Dunning', 'East Garfield Park', 'East Side', 'Edgewater', 'Edison Park', 'Englewood', 'Forest Glen', 'Fuller Park', 'Gage Park', 'Garfield Ridge', 'Grand Boulevard', 'Greater Grand Crossing', 'Hegewisch', 'Hermosa', 'Humboldt Park', 'Hyde Park', 'Irving Park', 'Jefferson Park', 'Kenwood', 'Lake View', 'Lincoln Park', 'Lincoln Square', 'Logan Square', 'Loop', 'Lower West Side', 'McKinley Park', 'Montclare', 'Morgan Park', 'Mount Greenwood', 'Near North Side', 'Near South Side', 'Near West Side', 'New City', 'North Center', 'North Lawndale', 'North Park', 'Norwood Park', 'O\\'Hare', 'Oakland', 'Portage Park', 'Pullman', 'Riverdale', 'Rogers Park', 'Roseland', 'South Chicago', 'South Deering', 'South Lawndale', 'South Shore', 'Uptown', 'Washington Heights', 'Washington Park', 'West Elsdon', 'West Englewood', 'West Garfield Park', 'West Lawn', 'West Pullman', 'West Ridge', 'West Town', 'Woodlawn'"
      ]
     },
     "metadata": {},
     "output_type": "display_data"
    }
   ],
   "source": [
    "schema = tfdv.infer_schema(statistics=stats)\n",
    "tfdv.display_schema(schema=schema)"
   ]
  },
  {
   "cell_type": "code",
   "execution_count": 52,
   "id": "502c49f1",
   "metadata": {},
   "outputs": [],
   "source": [
    "raw_schema_location = os.path.join(RAW_SCHEMA_DIR, 'schema.pbtxt')\n",
    "tfdv.write_schema_text(schema, raw_schema_location)"
   ]
  },
  {
   "cell_type": "markdown",
   "id": "59df0723",
   "metadata": {},
   "source": [
    "## 4. Create Vertex Dataset resource"
   ]
  },
  {
   "cell_type": "code",
   "execution_count": 53,
   "id": "90d9b605",
   "metadata": {},
   "outputs": [],
   "source": [
    "vertex_ai.init(\n",
    "    project=PROJECT,\n",
    "    location=REGION\n",
    ")"
   ]
  },
  {
   "cell_type": "markdown",
   "id": "464ab920",
   "metadata": {},
   "source": [
    "### Create the dataset resource"
   ]
  },
  {
   "cell_type": "code",
   "execution_count": 54,
   "id": "a0a1707a",
   "metadata": {},
   "outputs": [
    {
     "name": "stdout",
     "output_type": "stream",
     "text": [
      "Creating TabularDataset\n",
      "Create TabularDataset backing LRO: projects/642238407820/locations/us-west2/datasets/7621462760022343680/operations/6497791563249221632\n",
      "TabularDataset created. Resource name: projects/642238407820/locations/us-west2/datasets/7621462760022343680\n",
      "To use this TabularDataset in another session:\n",
      "ds = aiplatform.TabularDataset('projects/642238407820/locations/us-west2/datasets/7621462760022343680')\n"
     ]
    },
    {
     "data": {
      "text/plain": [
       "name: \"projects/642238407820/locations/us-west2/datasets/7621462760022343680\"\n",
       "display_name: \"chicago-taxi-tips\"\n",
       "metadata_schema_uri: \"gs://google-cloud-aiplatform/schema/dataset/metadata/tabular_1.0.0.yaml\"\n",
       "create_time {\n",
       "  seconds: 1722175578\n",
       "  nanos: 594683000\n",
       "}\n",
       "update_time {\n",
       "  seconds: 1722175591\n",
       "  nanos: 785088000\n",
       "}\n",
       "etag: \"AMEw9yNYQpa8qsxmYyh7V4eonxh_5ErdvaRXIkdaH_WXYjbNk_lV6Edetu5nSOH8szsc\"\n",
       "metadata {\n",
       "  struct_value {\n",
       "    fields {\n",
       "      key: \"inputConfig\"\n",
       "      value {\n",
       "        struct_value {\n",
       "          fields {\n",
       "            key: \"bigquerySource\"\n",
       "            value {\n",
       "              struct_value {\n",
       "                fields {\n",
       "                  key: \"uri\"\n",
       "                  value {\n",
       "                    string_value: \"bq://pa-poc-mlspec-1.playground.taxi_trips\"\n",
       "                  }\n",
       "                }\n",
       "              }\n",
       "            }\n",
       "          }\n",
       "        }\n",
       "      }\n",
       "    }\n",
       "  }\n",
       "}\n",
       "metadata_artifact: \"projects/642238407820/locations/us-west2/metadataStores/default/artifacts/d537971c-f98e-45bc-94e8-82d8a16e68a4\""
      ]
     },
     "execution_count": 54,
     "metadata": {},
     "output_type": "execute_result"
    }
   ],
   "source": [
    "bq_uri = f\"bq://{PROJECT}.{BQ_DATASET_NAME}.{BQ_TABLE_NAME}\"\n",
    "\n",
    "dataset = vertex_ai.TabularDataset.create(\n",
    "    display_name=DATASET_DISPLAY_NAME, bq_source=bq_uri)\n",
    "\n",
    "dataset.gca_resource"
   ]
  },
  {
   "cell_type": "markdown",
   "id": "c761fadb",
   "metadata": {},
   "source": [
    "### Get the dataset resource\n",
    "\n",
    "The dataset resource is retrieved by display name. Because multiple datasets can have the same display name, we retrieve the most recent updated one."
   ]
  },
  {
   "cell_type": "code",
   "execution_count": 55,
   "id": "d78b7f4d",
   "metadata": {},
   "outputs": [
    {
     "name": "stdout",
     "output_type": "stream",
     "text": [
      "Dataset resource name: projects/642238407820/locations/us-west2/datasets/7621462760022343680\n",
      "Dataset BigQuery source: bq://pa-poc-mlspec-1.playground.taxi_trips\n"
     ]
    }
   ],
   "source": [
    "dataset = vertex_ai.TabularDataset.list(\n",
    "    filter=f\"display_name={DATASET_DISPLAY_NAME}\", \n",
    "    order_by=\"update_time\")[-1]\n",
    "\n",
    "print(\"Dataset resource name:\", dataset.resource_name)\n",
    "print(\"Dataset BigQuery source:\", dataset.gca_resource.metadata['inputConfig']['bigquerySource']['uri'])"
   ]
  },
  {
   "cell_type": "code",
   "execution_count": null,
   "id": "569249de",
   "metadata": {},
   "outputs": [],
   "source": []
  }
 ],
 "metadata": {
  "environment": {
   "name": "common-cpu.m79",
   "type": "gcloud",
   "uri": "gcr.io/deeplearning-platform-release/base-cpu:m79"
  },
  "kernelspec": {
   "display_name": "Python 3",
   "language": "python",
   "name": "python3"
  },
  "language_info": {
   "codemirror_mode": {
    "name": "ipython",
    "version": 3
   },
   "file_extension": ".py",
   "mimetype": "text/x-python",
   "name": "python",
   "nbconvert_exporter": "python",
   "pygments_lexer": "ipython3",
   "version": "3.9.7"
  }
 },
 "nbformat": 4,
 "nbformat_minor": 5
}
