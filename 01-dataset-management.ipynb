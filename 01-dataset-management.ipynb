{
 "cells": [
  {
   "cell_type": "markdown",
   "id": "e8ba7f4f",
   "metadata": {},
   "source": [
    "# 01 - Data Analysis and Preparation\n",
    "\n",
    "This notebook covers the following tasks:\n",
    "\n",
    "1. Perform exploratory data analysis and visualization.\n",
    "2. Prepare the data for the ML task in BigQuery.\n",
    "3. Generate and fix a ` TFDV schema` for the source data.\n",
    "4. Create a `Vertex Dataset resource` dataset.\n"
   ]
  },
  {
   "cell_type": "markdown",
   "id": "b481a247",
   "metadata": {},
   "source": [
    "## Dataset\n",
    "\n",
    "The [Chicago Taxi Trips](https://pantheon.corp.google.com/marketplace/details/city-of-chicago-public-data/chicago-taxi-trips) dataset is one of [public datasets hosted with BigQuery](https://cloud.google.com/bigquery/public-data/), which includes taxi trips from 2013 to the present, reported to the City of Chicago in its role as a regulatory agency. The `taxi_trips` table size is 70.72 GB and includes more than 195 million records. The dataset includes information about the trips, like pickup and dropoff datetime and location, passengers count, miles travelled, and trip toll. \n",
    "\n",
    "The ML task is to predict whether a given trip will result in a tip > 20%."
   ]
  },
  {
   "cell_type": "markdown",
   "id": "4fedd0ac",
   "metadata": {},
   "source": [
    "## Setup"
   ]
  },
  {
   "cell_type": "markdown",
   "id": "b25967c9",
   "metadata": {},
   "source": [
    "### Import libraries"
   ]
  },
  {
   "cell_type": "code",
   "execution_count": 73,
   "id": "fa2cf3f1",
   "metadata": {},
   "outputs": [],
   "source": [
    "import os\n",
    "import pandas as pd\n",
    "import tensorflow as tf\n",
    "import tensorflow_data_validation as tfdv\n",
    "from google.cloud import bigquery\n",
    "import matplotlib.pyplot as plt\n",
    "\n",
    "from google.cloud import aiplatform as vertex_ai"
   ]
  },
  {
   "cell_type": "markdown",
   "id": "9bd0ee37",
   "metadata": {},
   "source": [
    "### Setup Google Cloud project"
   ]
  },
  {
   "cell_type": "code",
   "execution_count": 74,
   "id": "c7e4712e",
   "metadata": {},
   "outputs": [],
   "source": [
    "PROJECT = 'prj-dev-mlct-flt-01-0a04' # Change to your project id.\n",
    "REGION = 'us-west2' #'europe-west2' # Change to your region."
   ]
  },
  {
   "cell_type": "markdown",
   "id": "384a817b",
   "metadata": {},
   "source": [
    "### Set configurations"
   ]
  },
  {
   "cell_type": "code",
   "execution_count": 75,
   "id": "b71d0738",
   "metadata": {},
   "outputs": [],
   "source": [
    "BQ_DATASET_NAME = 'playground' # Change to your BQ dataset name.\n",
    "BQ_TABLE_NAME = 'taxi_trips'\n",
    "BQ_LOCATION = 'US'\n",
    "\n",
    "DATASET_DISPLAY_NAME = 'chicago-taxi-tips'\n",
    "\n",
    "RAW_SCHEMA_DIR = 'src/raw_schema'"
   ]
  },
  {
   "cell_type": "markdown",
   "id": "39395512",
   "metadata": {},
   "source": [
    "## 1. Explore the data in BigQuery"
   ]
  },
  {
   "cell_type": "code",
   "execution_count": 76,
   "id": "e7008360",
   "metadata": {},
   "outputs": [
    {
     "name": "stdout",
     "output_type": "stream",
     "text": [
      "The google.cloud.bigquery extension is already loaded. To reload it, use:\n",
      "  %reload_ext google.cloud.bigquery\n"
     ]
    }
   ],
   "source": [
    "%load_ext google.cloud.bigquery"
   ]
  },
  {
   "cell_type": "code",
   "execution_count": 4,
   "id": "9e4300d3",
   "metadata": {},
   "outputs": [
    {
     "name": "stderr",
     "output_type": "stream",
     "text": [
      "c:\\Users\\MANSM\\Demo\\GCP\\mlops-with-vertex-ai\\.venv\\lib\\site-packages\\google\\cloud\\bigquery\\job\\query.py:1892: UserWarning: A progress bar was requested, but there was an error loading the tqdm library. Please install tqdm to use the progress bar functionality.\n",
      "  query_result = wait_for_query(self, progress_bar_type, max_results=max_results)\n",
      "c:\\Users\\MANSM\\Demo\\GCP\\mlops-with-vertex-ai\\.venv\\lib\\site-packages\\google\\cloud\\bigquery\\table.py:2257: UserWarning: A progress bar was requested, but there was an error loading the tqdm library. Please install tqdm to use the progress bar functionality.\n",
      "  record_batch = self.to_arrow(\n"
     ]
    }
   ],
   "source": [
    "%%bigquery data\n",
    "\n",
    "SELECT \n",
    "    CAST(EXTRACT(DAYOFWEEK FROM trip_start_timestamp) AS string) AS trip_dayofweek, \n",
    "    FORMAT_DATE('%A',cast(trip_start_timestamp as date)) AS trip_dayname,\n",
    "    COUNT(*) as trip_count,\n",
    "FROM `prj-dev-mlct-flt-01-0a04.chicago_taxi_trips.taxi_trips`\n",
    "WHERE\n",
    "    EXTRACT(YEAR FROM trip_start_timestamp) = 2015 \n",
    "GROUP BY\n",
    "    trip_dayofweek,\n",
    "    trip_dayname\n",
    "ORDER BY\n",
    "    trip_dayofweek\n",
    ";"
   ]
  },
  {
   "cell_type": "code",
   "execution_count": 5,
   "id": "699804c5",
   "metadata": {},
   "outputs": [
    {
     "data": {
      "text/html": [
       "<div>\n",
       "<style scoped>\n",
       "    .dataframe tbody tr th:only-of-type {\n",
       "        vertical-align: middle;\n",
       "    }\n",
       "\n",
       "    .dataframe tbody tr th {\n",
       "        vertical-align: top;\n",
       "    }\n",
       "\n",
       "    .dataframe thead th {\n",
       "        text-align: right;\n",
       "    }\n",
       "</style>\n",
       "<table border=\"1\" class=\"dataframe\">\n",
       "  <thead>\n",
       "    <tr style=\"text-align: right;\">\n",
       "      <th></th>\n",
       "      <th>trip_dayofweek</th>\n",
       "      <th>trip_dayname</th>\n",
       "      <th>trip_count</th>\n",
       "    </tr>\n",
       "  </thead>\n",
       "  <tbody>\n",
       "    <tr>\n",
       "      <th>0</th>\n",
       "      <td>1</td>\n",
       "      <td>Sunday</td>\n",
       "      <td>4141130</td>\n",
       "    </tr>\n",
       "    <tr>\n",
       "      <th>1</th>\n",
       "      <td>2</td>\n",
       "      <td>Monday</td>\n",
       "      <td>4105815</td>\n",
       "    </tr>\n",
       "    <tr>\n",
       "      <th>2</th>\n",
       "      <td>3</td>\n",
       "      <td>Tuesday</td>\n",
       "      <td>4378750</td>\n",
       "    </tr>\n",
       "    <tr>\n",
       "      <th>3</th>\n",
       "      <td>4</td>\n",
       "      <td>Wednesday</td>\n",
       "      <td>4542711</td>\n",
       "    </tr>\n",
       "    <tr>\n",
       "      <th>4</th>\n",
       "      <td>5</td>\n",
       "      <td>Thursday</td>\n",
       "      <td>4918158</td>\n",
       "    </tr>\n",
       "    <tr>\n",
       "      <th>5</th>\n",
       "      <td>6</td>\n",
       "      <td>Friday</td>\n",
       "      <td>5289798</td>\n",
       "    </tr>\n",
       "    <tr>\n",
       "      <th>6</th>\n",
       "      <td>7</td>\n",
       "      <td>Saturday</td>\n",
       "      <td>5009165</td>\n",
       "    </tr>\n",
       "  </tbody>\n",
       "</table>\n",
       "</div>"
      ],
      "text/plain": [
       "  trip_dayofweek trip_dayname  trip_count\n",
       "0              1       Sunday     4141130\n",
       "1              2       Monday     4105815\n",
       "2              3      Tuesday     4378750\n",
       "3              4    Wednesday     4542711\n",
       "4              5     Thursday     4918158\n",
       "5              6       Friday     5289798\n",
       "6              7     Saturday     5009165"
      ]
     },
     "execution_count": 5,
     "metadata": {},
     "output_type": "execute_result"
    }
   ],
   "source": [
    "data"
   ]
  },
  {
   "cell_type": "code",
   "execution_count": 6,
   "id": "a7f2447e",
   "metadata": {},
   "outputs": [
    {
     "data": {
      "text/plain": [
       "<Axes: xlabel='trip_dayname'>"
      ]
     },
     "execution_count": 6,
     "metadata": {},
     "output_type": "execute_result"
    },
    {
     "data": {
      "image/png": "[encoded data removed]",
      "text/plain": [
       "<Figure size 640x480 with 1 Axes>"
      ]
     },
     "metadata": {},
     "output_type": "display_data"
    }
   ],
   "source": [
    "data.plot(kind='bar', x='trip_dayname', y='trip_count')"
   ]
  },
  {
   "cell_type": "markdown",
   "id": "a7782c69",
   "metadata": {},
   "source": [
    "## 2. Create data for the ML task\n",
    "\n",
    "We add a `ML_use` column for pre-splitting the data, where 80% of the datsa items are set to `UNASSIGNED` while the other 20% is set to `TEST`.\n",
    "\n",
    "This column is used during training to split the dataset for training and test.\n",
    "\n",
    "In the training phase, the `UNASSIGNED` are split into `train` and `eval`. The `TEST` split is will be used for the final model validation."
   ]
  },
  {
   "cell_type": "markdown",
   "id": "7987d132",
   "metadata": {},
   "source": [
    "### Create destination BigQuery dataset"
   ]
  },
  {
   "cell_type": "code",
   "execution_count": 43,
   "id": "56a7f6d6",
   "metadata": {},
   "outputs": [
    {
     "name": "stdout",
     "output_type": "stream",
     "text": [
      "Dataset 'prj-dev-mlct-flt-01-0a04:playground' successfully created.\n"
     ]
    }
   ],
   "source": [
    "!bq --location=$BQ_LOCATION mk -d \\\n",
    "$PROJECT:$BQ_DATASET_NAME"
   ]
  },
  {
   "cell_type": "code",
   "execution_count": 77,
   "id": "832f99ba",
   "metadata": {},
   "outputs": [],
   "source": [
    "sample_size = 1000000\n",
    "year = 2020"
   ]
  },
  {
   "cell_type": "code",
   "execution_count": 51,
   "id": "1b19789f",
   "metadata": {},
   "outputs": [],
   "source": [
    "sql_script = '''\n",
    "CREATE OR REPLACE TABLE `@PROJECT.@DATASET.@TABLE` \n",
    "AS (\n",
    "    WITH\n",
    "      taxitrips AS (\n",
    "      SELECT\n",
    "        trip_start_timestamp,\n",
    "        trip_seconds,\n",
    "        trip_miles,\n",
    "        payment_type,\n",
    "        pickup_longitude,\n",
    "        pickup_latitude,\n",
    "        dropoff_longitude,\n",
    "        dropoff_latitude,\n",
    "        tips,\n",
    "        fare\n",
    "      FROM\n",
    "        `prj-dev-mlct-flt-01-0a04.chicago_taxi_trips.taxi_trips`\n",
    "      WHERE 1=1 \n",
    "      AND pickup_longitude IS NOT NULL\n",
    "      AND pickup_latitude IS NOT NULL\n",
    "      AND dropoff_longitude IS NOT NULL\n",
    "      AND dropoff_latitude IS NOT NULL\n",
    "      AND trip_miles > 0\n",
    "      AND trip_seconds > 0\n",
    "      AND fare > 0\n",
    "      AND EXTRACT(YEAR FROM trip_start_timestamp) = @YEAR\n",
    "    )\n",
    "\n",
    "    SELECT\n",
    "      trip_start_timestamp,\n",
    "      EXTRACT(MONTH from trip_start_timestamp) as trip_month,\n",
    "      EXTRACT(DAY from trip_start_timestamp) as trip_day,\n",
    "      EXTRACT(DAYOFWEEK from trip_start_timestamp) as trip_day_of_week,\n",
    "      EXTRACT(HOUR from trip_start_timestamp) as trip_hour,\n",
    "      trip_seconds,\n",
    "      trip_miles,\n",
    "      payment_type,\n",
    "      ST_AsText(\n",
    "          ST_SnapToGrid(ST_GeogPoint(pickup_longitude, pickup_latitude), 0.1)\n",
    "      ) AS pickup_grid,\n",
    "      ST_AsText(\n",
    "          ST_SnapToGrid(ST_GeogPoint(dropoff_longitude, dropoff_latitude), 0.1)\n",
    "      ) AS dropoff_grid,\n",
    "      ST_Distance(\n",
    "          ST_GeogPoint(pickup_longitude, pickup_latitude), \n",
    "          ST_GeogPoint(dropoff_longitude, dropoff_latitude)\n",
    "      ) AS euclidean,\n",
    "      CONCAT(\n",
    "          ST_AsText(ST_SnapToGrid(ST_GeogPoint(pickup_longitude,\n",
    "              pickup_latitude), 0.1)), \n",
    "          ST_AsText(ST_SnapToGrid(ST_GeogPoint(dropoff_longitude,\n",
    "              dropoff_latitude), 0.1))\n",
    "      ) AS loc_cross,\n",
    "      IF((tips/fare >= 0.2), 1, 0) AS tip_bin,\n",
    "      IF(RAND() <= 0.8, 'UNASSIGNED', 'TEST') AS ML_use\n",
    "    FROM\n",
    "      taxitrips\n",
    "    LIMIT @LIMIT\n",
    ")\n",
    "'''"
   ]
  },
  {
   "cell_type": "code",
   "execution_count": 86,
   "id": "45ff08bb",
   "metadata": {},
   "outputs": [],
   "source": [
    "sql_script = ''' \n",
    "CREATE OR REPLACE TABLE `@PROJECT.@DATASET.@TABLE` \n",
    "AS (\n",
    "    WITH\n",
    "      taxitrips AS (\n",
    "      SELECT\n",
    "        trip_start_timestamp,\n",
    "        trip_seconds,\n",
    "        trip_miles,\n",
    "        payment_type,\n",
    "        pickup_longitude,\n",
    "        pickup_latitude,\n",
    "        dropoff_longitude,\n",
    "        dropoff_latitude,\n",
    "        tips,\n",
    "        fare,\n",
    "        dropoff_community_area\n",
    "      FROM\n",
    "        `prj-dev-mlct-flt-01-0a04.chicago_taxi_trips.taxi_trips`\n",
    "      WHERE 1=1 \n",
    "      AND pickup_longitude IS NOT NULL\n",
    "      AND pickup_latitude IS NOT NULL\n",
    "      AND dropoff_longitude IS NOT NULL\n",
    "      AND dropoff_latitude IS NOT NULL\n",
    "      AND trip_miles > 0\n",
    "      AND trip_seconds > 0\n",
    "      AND fare > 0\n",
    "      AND EXTRACT(YEAR FROM trip_start_timestamp) = @YEAR\n",
    "    ),\n",
    "\n",
    "    community_names AS (\n",
    "      SELECT\n",
    "        dropoff_community_area,\n",
    "        community_name\n",
    "      FROM\n",
    "        `prj-dev-mlct-flt-01-0a04.chicago_taxi_trips.chicago_area`\n",
    "    ),\n",
    "\n",
    "    total_arrests AS (\n",
    "      SELECT\n",
    "        community_area as dropoff_community_area,\n",
    "        COUNT(*) AS total_arrests\n",
    "      FROM\n",
    "        `prj-dev-mlct-flt-01-0a04.chicago_taxi_trips.chicago_crimes`\n",
    "      WHERE\n",
    "        year = @YEAR\n",
    "      GROUP BY\n",
    "        community_area\n",
    "    )\n",
    "\n",
    "    SELECT\n",
    "      trip_start_timestamp,\n",
    "      EXTRACT(MONTH from trip_start_timestamp) as trip_month,\n",
    "      EXTRACT(DAY from trip_start_timestamp) as trip_day,\n",
    "      EXTRACT(DAYOFWEEK from trip_start_timestamp) as trip_day_of_week,\n",
    "      EXTRACT(HOUR from trip_start_timestamp) as trip_hour,\n",
    "      trip_seconds,\n",
    "      trip_miles,\n",
    "      payment_type,\n",
    "      ST_AsText(\n",
    "          ST_SnapToGrid(ST_GeogPoint(pickup_longitude, pickup_latitude), 0.1)\n",
    "      ) AS pickup_grid,\n",
    "      ST_AsText(\n",
    "          ST_SnapToGrid(ST_GeogPoint(dropoff_longitude, dropoff_latitude), 0.1)\n",
    "      ) AS dropoff_grid,\n",
    "      ST_Distance(\n",
    "          ST_GeogPoint(pickup_longitude, pickup_latitude), \n",
    "          ST_GeogPoint(dropoff_longitude, dropoff_latitude)\n",
    "      ) AS euclidean,\n",
    "      CONCAT(\n",
    "          ST_AsText(ST_SnapToGrid(ST_GeogPoint(pickup_longitude,\n",
    "              pickup_latitude), 0.1)), \n",
    "          ST_AsText(ST_SnapToGrid(ST_GeogPoint(dropoff_longitude,\n",
    "              dropoff_latitude), 0.1))\n",
    "      ) AS loc_cross,\n",
    "      IF((tips/fare >= 0.2), 1, 0) AS tip_bin,\n",
    "      IF(RAND() <= 0.8, 'UNASSIGNED', 'TEST') AS ML_use,\n",
    "      ca.community_name,\n",
    "      ta.total_arrests\n",
    "    FROM\n",
    "      taxitrips tt\n",
    "    LEFT JOIN\n",
    "      community_names ca\n",
    "    ON\n",
    "      tt.dropoff_community_area = ca.dropoff_community_area\n",
    "    LEFT JOIN\n",
    "      total_arrests ta\n",
    "    ON\n",
    "      tt.dropoff_community_area = ta.dropoff_community_area\n",
    "    LIMIT @LIMIT\n",
    ")\n",
    "\n",
    "'''"
   ]
  },
  {
   "cell_type": "code",
   "execution_count": 87,
   "id": "6f1d2837",
   "metadata": {},
   "outputs": [],
   "source": [
    "sql_script = sql_script.replace(\n",
    "    '@PROJECT', PROJECT).replace(\n",
    "    '@DATASET', BQ_DATASET_NAME).replace(\n",
    "    '@TABLE', BQ_TABLE_NAME).replace(\n",
    "    '@YEAR', str(year)).replace(\n",
    "    '@LIMIT', str(sample_size))"
   ]
  },
  {
   "cell_type": "code",
   "execution_count": 88,
   "id": "27acb6b5",
   "metadata": {},
   "outputs": [
    {
     "name": "stdout",
     "output_type": "stream",
     "text": [
      " \n",
      "CREATE OR REPLACE TABLE `prj-dev-mlct-flt-01-0a04.playground.taxi_trips` \n",
      "AS (\n",
      "    WITH\n",
      "      taxitrips AS (\n",
      "      SELECT\n",
      "        trip_start_timestamp,\n",
      "        trip_seconds,\n",
      "        trip_miles,\n",
      "        payment_type,\n",
      "        pickup_longitude,\n",
      "        pickup_latitude,\n",
      "        dropoff_longitude,\n",
      "        dropoff_latitude,\n",
      "        tips,\n",
      "        fare,\n",
      "        dropoff_community_area\n",
      "      FROM\n",
      "        `prj-dev-mlct-flt-01-0a04.chicago_taxi_trips.taxi_trips`\n",
      "      WHERE 1=1 \n",
      "      AND pickup_longitude IS NOT NULL\n",
      "      AND pickup_latitude IS NOT NULL\n",
      "      AND dropoff_longitude IS NOT NULL\n",
      "      AND dropoff_latitude IS NOT NULL\n",
      "      AND trip_miles > 0\n",
      "      AND trip_seconds > 0\n",
      "      AND fare > 0\n",
      "      AND EXTRACT(YEAR FROM trip_start_timestamp) = 2020\n",
      "    ),\n",
      "\n",
      "    community_names AS (\n",
      "      SELECT\n",
      "        dropoff_community_area,\n",
      "        community_name\n",
      "      FROM\n",
      "        `prj-dev-mlct-flt-01-0a04.chicago_taxi_trips.chicago_area`\n",
      "    ),\n",
      "\n",
      "    total_arrests AS (\n",
      "      SELECT\n",
      "        community_area as dropoff_community_area,\n",
      "        COUNT(*) AS total_arrests\n",
      "      FROM\n",
      "        `prj-dev-mlct-flt-01-0a04.chicago_taxi_trips.chicago_crimes`\n",
      "      WHERE\n",
      "        year = 2020\n",
      "      GROUP BY\n",
      "        community_area\n",
      "    )\n",
      "\n",
      "    SELECT\n",
      "      trip_start_timestamp,\n",
      "      EXTRACT(MONTH from trip_start_timestamp) as trip_month,\n",
      "      EXTRACT(DAY from trip_start_timestamp) as trip_day,\n",
      "      EXTRACT(DAYOFWEEK from trip_start_timestamp) as trip_day_of_week,\n",
      "      EXTRACT(HOUR from trip_start_timestamp) as trip_hour,\n",
      "      trip_seconds,\n",
      "      trip_miles,\n",
      "      payment_type,\n",
      "      ST_AsText(\n",
      "          ST_SnapToGrid(ST_GeogPoint(pickup_longitude, pickup_latitude), 0.1)\n",
      "      ) AS pickup_grid,\n",
      "      ST_AsText(\n",
      "          ST_SnapToGrid(ST_GeogPoint(dropoff_longitude, dropoff_latitude), 0.1)\n",
      "      ) AS dropoff_grid,\n",
      "      ST_Distance(\n",
      "          ST_GeogPoint(pickup_longitude, pickup_latitude), \n",
      "          ST_GeogPoint(dropoff_longitude, dropoff_latitude)\n",
      "      ) AS euclidean,\n",
      "      CONCAT(\n",
      "          ST_AsText(ST_SnapToGrid(ST_GeogPoint(pickup_longitude,\n",
      "              pickup_latitude), 0.1)), \n",
      "          ST_AsText(ST_SnapToGrid(ST_GeogPoint(dropoff_longitude,\n",
      "              dropoff_latitude), 0.1))\n",
      "      ) AS loc_cross,\n",
      "      IF((tips/fare >= 0.2), 1, 0) AS tip_bin,\n",
      "      IF(RAND() <= 0.8, 'UNASSIGNED', 'TEST') AS ML_use,\n",
      "      ca.community_name,\n",
      "      ta.total_arrests\n",
      "    FROM\n",
      "      taxitrips tt\n",
      "    LEFT JOIN\n",
      "      community_names ca\n",
      "    ON\n",
      "      tt.dropoff_community_area = ca.dropoff_community_area\n",
      "    LEFT JOIN\n",
      "      total_arrests ta\n",
      "    ON\n",
      "      tt.dropoff_community_area = ta.dropoff_community_area\n",
      "    LIMIT 1000000\n",
      ")\n",
      "\n",
      "\n"
     ]
    }
   ],
   "source": [
    "print(sql_script)"
   ]
  },
  {
   "cell_type": "code",
   "execution_count": 89,
   "id": "88f31e8c",
   "metadata": {},
   "outputs": [],
   "source": [
    "bq_client = bigquery.Client(project=PROJECT, location=BQ_LOCATION)\n",
    "job = bq_client.query(sql_script)\n",
    "_ = job.result()"
   ]
  },
  {
   "cell_type": "code",
   "execution_count": 90,
   "id": "b32eea6f",
   "metadata": {},
   "outputs": [
    {
     "name": "stderr",
     "output_type": "stream",
     "text": [
      "c:\\Users\\MANSM\\Demo\\GCP\\mlops-with-vertex-ai\\.venv\\lib\\site-packages\\google\\cloud\\bigquery\\job\\query.py:1892: UserWarning: A progress bar was requested, but there was an error loading the tqdm library. Please install tqdm to use the progress bar functionality.\n",
      "  query_result = wait_for_query(self, progress_bar_type, max_results=max_results)\n",
      "c:\\Users\\MANSM\\Demo\\GCP\\mlops-with-vertex-ai\\.venv\\lib\\site-packages\\google\\cloud\\bigquery\\table.py:2257: UserWarning: A progress bar was requested, but there was an error loading the tqdm library. Please install tqdm to use the progress bar functionality.\n",
      "  record_batch = self.to_arrow(\n"
     ]
    },
    {
     "data": {
      "text/html": [
       "<div>\n",
       "<style scoped>\n",
       "    .dataframe tbody tr th:only-of-type {\n",
       "        vertical-align: middle;\n",
       "    }\n",
       "\n",
       "    .dataframe tbody tr th {\n",
       "        vertical-align: top;\n",
       "    }\n",
       "\n",
       "    .dataframe thead th {\n",
       "        text-align: right;\n",
       "    }\n",
       "</style>\n",
       "<table border=\"1\" class=\"dataframe\">\n",
       "  <thead>\n",
       "    <tr style=\"text-align: right;\">\n",
       "      <th></th>\n",
       "      <th>ML_use</th>\n",
       "      <th>f0_</th>\n",
       "    </tr>\n",
       "  </thead>\n",
       "  <tbody>\n",
       "    <tr>\n",
       "      <th>0</th>\n",
       "      <td>UNASSIGNED</td>\n",
       "      <td>800274</td>\n",
       "    </tr>\n",
       "    <tr>\n",
       "      <th>1</th>\n",
       "      <td>TEST</td>\n",
       "      <td>199726</td>\n",
       "    </tr>\n",
       "  </tbody>\n",
       "</table>\n",
       "</div>"
      ],
      "text/plain": [
       "       ML_use     f0_\n",
       "0  UNASSIGNED  800274\n",
       "1        TEST  199726"
      ]
     },
     "execution_count": 90,
     "metadata": {},
     "output_type": "execute_result"
    }
   ],
   "source": [
    "%%bigquery --project {PROJECT}\n",
    "\n",
    "SELECT ML_use, COUNT(*)\n",
    "FROM playground.taxi_trips # Change to your BQ dataset and table names.\n",
    "GROUP BY ML_use"
   ]
  },
  {
   "cell_type": "markdown",
   "id": "7fcc75fc",
   "metadata": {},
   "source": [
    "### Load a sample data to a Pandas DataFrame"
   ]
  },
  {
   "cell_type": "code",
   "execution_count": 56,
   "id": "f252a846",
   "metadata": {},
   "outputs": [
    {
     "name": "stderr",
     "output_type": "stream",
     "text": [
      "c:\\Users\\MANSM\\Demo\\GCP\\mlops-with-vertex-ai\\.venv\\lib\\site-packages\\google\\cloud\\bigquery\\job\\query.py:1892: UserWarning: A progress bar was requested, but there was an error loading the tqdm library. Please install tqdm to use the progress bar functionality.\n",
      "  query_result = wait_for_query(self, progress_bar_type, max_results=max_results)\n",
      "c:\\Users\\MANSM\\Demo\\GCP\\mlops-with-vertex-ai\\.venv\\lib\\site-packages\\google\\cloud\\bigquery\\table.py:2257: UserWarning: A progress bar was requested, but there was an error loading the tqdm library. Please install tqdm to use the progress bar functionality.\n",
      "  record_batch = self.to_arrow(\n"
     ]
    }
   ],
   "source": [
    "%%bigquery sample_data --project {PROJECT}\n",
    "\n",
    "SELECT * EXCEPT (trip_start_timestamp, ML_use)\n",
    "FROM playground.taxi_trips # Change to your BQ dataset and table names."
   ]
  },
  {
   "cell_type": "code",
   "execution_count": 57,
   "id": "798809d2",
   "metadata": {},
   "outputs": [
    {
     "data": {
      "text/html": [
       "<div>\n",
       "<style scoped>\n",
       "    .dataframe tbody tr th:only-of-type {\n",
       "        vertical-align: middle;\n",
       "    }\n",
       "\n",
       "    .dataframe tbody tr th {\n",
       "        vertical-align: top;\n",
       "    }\n",
       "\n",
       "    .dataframe thead th {\n",
       "        text-align: right;\n",
       "    }\n",
       "</style>\n",
       "<table border=\"1\" class=\"dataframe\">\n",
       "  <thead>\n",
       "    <tr style=\"text-align: right;\">\n",
       "      <th></th>\n",
       "      <th>0</th>\n",
       "      <th>1</th>\n",
       "      <th>2</th>\n",
       "      <th>3</th>\n",
       "      <th>4</th>\n",
       "    </tr>\n",
       "  </thead>\n",
       "  <tbody>\n",
       "    <tr>\n",
       "      <th>trip_month</th>\n",
       "      <td>1</td>\n",
       "      <td>2</td>\n",
       "      <td>1</td>\n",
       "      <td>2</td>\n",
       "      <td>1</td>\n",
       "    </tr>\n",
       "    <tr>\n",
       "      <th>trip_day</th>\n",
       "      <td>19</td>\n",
       "      <td>10</td>\n",
       "      <td>29</td>\n",
       "      <td>7</td>\n",
       "      <td>8</td>\n",
       "    </tr>\n",
       "    <tr>\n",
       "      <th>trip_day_of_week</th>\n",
       "      <td>1</td>\n",
       "      <td>2</td>\n",
       "      <td>4</td>\n",
       "      <td>6</td>\n",
       "      <td>4</td>\n",
       "    </tr>\n",
       "    <tr>\n",
       "      <th>trip_hour</th>\n",
       "      <td>0</td>\n",
       "      <td>17</td>\n",
       "      <td>7</td>\n",
       "      <td>11</td>\n",
       "      <td>10</td>\n",
       "    </tr>\n",
       "    <tr>\n",
       "      <th>trip_seconds</th>\n",
       "      <td>356</td>\n",
       "      <td>1093</td>\n",
       "      <td>7</td>\n",
       "      <td>229</td>\n",
       "      <td>180</td>\n",
       "    </tr>\n",
       "    <tr>\n",
       "      <th>trip_miles</th>\n",
       "      <td>1.64</td>\n",
       "      <td>0.75</td>\n",
       "      <td>0.03</td>\n",
       "      <td>0.49</td>\n",
       "      <td>0.7</td>\n",
       "    </tr>\n",
       "    <tr>\n",
       "      <th>payment_type</th>\n",
       "      <td>Cash</td>\n",
       "      <td>Cash</td>\n",
       "      <td>Cash</td>\n",
       "      <td>Cash</td>\n",
       "      <td>Cash</td>\n",
       "    </tr>\n",
       "    <tr>\n",
       "      <th>pickup_grid</th>\n",
       "      <td>POINT(-87.6 42)</td>\n",
       "      <td>POINT(-87.6 42)</td>\n",
       "      <td>POINT(-87.6 42)</td>\n",
       "      <td>POINT(-87.6 42)</td>\n",
       "      <td>POINT(-87.6 42)</td>\n",
       "    </tr>\n",
       "    <tr>\n",
       "      <th>dropoff_grid</th>\n",
       "      <td>POINT(-87.6 42)</td>\n",
       "      <td>POINT(-87.6 42)</td>\n",
       "      <td>POINT(-87.6 42)</td>\n",
       "      <td>POINT(-87.6 42)</td>\n",
       "      <td>POINT(-87.6 42)</td>\n",
       "    </tr>\n",
       "    <tr>\n",
       "      <th>euclidean</th>\n",
       "      <td>0.0</td>\n",
       "      <td>0.0</td>\n",
       "      <td>0.0</td>\n",
       "      <td>0.0</td>\n",
       "      <td>0.0</td>\n",
       "    </tr>\n",
       "    <tr>\n",
       "      <th>loc_cross</th>\n",
       "      <td>POINT(-87.6 42)POINT(-87.6 42)</td>\n",
       "      <td>POINT(-87.6 42)POINT(-87.6 42)</td>\n",
       "      <td>POINT(-87.6 42)POINT(-87.6 42)</td>\n",
       "      <td>POINT(-87.6 42)POINT(-87.6 42)</td>\n",
       "      <td>POINT(-87.6 42)POINT(-87.6 42)</td>\n",
       "    </tr>\n",
       "    <tr>\n",
       "      <th>tip_bin</th>\n",
       "      <td>0</td>\n",
       "      <td>0</td>\n",
       "      <td>0</td>\n",
       "      <td>0</td>\n",
       "      <td>0</td>\n",
       "    </tr>\n",
       "  </tbody>\n",
       "</table>\n",
       "</div>"
      ],
      "text/plain": [
       "                                               0  \\\n",
       "trip_month                                     1   \n",
       "trip_day                                      19   \n",
       "trip_day_of_week                               1   \n",
       "trip_hour                                      0   \n",
       "trip_seconds                                 356   \n",
       "trip_miles                                  1.64   \n",
       "payment_type                                Cash   \n",
       "pickup_grid                      POINT(-87.6 42)   \n",
       "dropoff_grid                     POINT(-87.6 42)   \n",
       "euclidean                                    0.0   \n",
       "loc_cross         POINT(-87.6 42)POINT(-87.6 42)   \n",
       "tip_bin                                        0   \n",
       "\n",
       "                                               1  \\\n",
       "trip_month                                     2   \n",
       "trip_day                                      10   \n",
       "trip_day_of_week                               2   \n",
       "trip_hour                                     17   \n",
       "trip_seconds                                1093   \n",
       "trip_miles                                  0.75   \n",
       "payment_type                                Cash   \n",
       "pickup_grid                      POINT(-87.6 42)   \n",
       "dropoff_grid                     POINT(-87.6 42)   \n",
       "euclidean                                    0.0   \n",
       "loc_cross         POINT(-87.6 42)POINT(-87.6 42)   \n",
       "tip_bin                                        0   \n",
       "\n",
       "                                               2  \\\n",
       "trip_month                                     1   \n",
       "trip_day                                      29   \n",
       "trip_day_of_week                               4   \n",
       "trip_hour                                      7   \n",
       "trip_seconds                                   7   \n",
       "trip_miles                                  0.03   \n",
       "payment_type                                Cash   \n",
       "pickup_grid                      POINT(-87.6 42)   \n",
       "dropoff_grid                     POINT(-87.6 42)   \n",
       "euclidean                                    0.0   \n",
       "loc_cross         POINT(-87.6 42)POINT(-87.6 42)   \n",
       "tip_bin                                        0   \n",
       "\n",
       "                                               3  \\\n",
       "trip_month                                     2   \n",
       "trip_day                                       7   \n",
       "trip_day_of_week                               6   \n",
       "trip_hour                                     11   \n",
       "trip_seconds                                 229   \n",
       "trip_miles                                  0.49   \n",
       "payment_type                                Cash   \n",
       "pickup_grid                      POINT(-87.6 42)   \n",
       "dropoff_grid                     POINT(-87.6 42)   \n",
       "euclidean                                    0.0   \n",
       "loc_cross         POINT(-87.6 42)POINT(-87.6 42)   \n",
       "tip_bin                                        0   \n",
       "\n",
       "                                               4  \n",
       "trip_month                                     1  \n",
       "trip_day                                       8  \n",
       "trip_day_of_week                               4  \n",
       "trip_hour                                     10  \n",
       "trip_seconds                                 180  \n",
       "trip_miles                                   0.7  \n",
       "payment_type                                Cash  \n",
       "pickup_grid                      POINT(-87.6 42)  \n",
       "dropoff_grid                     POINT(-87.6 42)  \n",
       "euclidean                                    0.0  \n",
       "loc_cross         POINT(-87.6 42)POINT(-87.6 42)  \n",
       "tip_bin                                        0  "
      ]
     },
     "execution_count": 57,
     "metadata": {},
     "output_type": "execute_result"
    }
   ],
   "source": [
    "sample_data.head().T"
   ]
  },
  {
   "cell_type": "code",
   "execution_count": 58,
   "id": "23595838",
   "metadata": {},
   "outputs": [
    {
     "data": {
      "text/plain": [
       "0    641944\n",
       "1    358056\n",
       "Name: tip_bin, dtype: Int64"
      ]
     },
     "execution_count": 58,
     "metadata": {},
     "output_type": "execute_result"
    }
   ],
   "source": [
    "sample_data.tip_bin.value_counts()"
   ]
  },
  {
   "cell_type": "code",
   "execution_count": 59,
   "id": "3d06bb64",
   "metadata": {},
   "outputs": [
    {
     "data": {
      "text/plain": [
       "<Axes: >"
      ]
     },
     "execution_count": 59,
     "metadata": {},
     "output_type": "execute_result"
    },
    {
     "data": {
      "image/png": "[encoded data removed]",
      "text/plain": [
       "<Figure size 640x480 with 1 Axes>"
      ]
     },
     "metadata": {},
     "output_type": "display_data"
    }
   ],
   "source": [
    "sample_data.euclidean.hist()"
   ]
  },
  {
   "cell_type": "markdown",
   "id": "10aae180",
   "metadata": {},
   "source": [
    "## 3. Generate raw data schema\n",
    "\n",
    "The [TensorFlow Data Validation (TFDV)](https://www.tensorflow.org/tfx/data_validation/get_started) data schema will be used in:\n",
    "1. Identify the raw data types and shapes in the data transformation.\n",
    "2. Create the serving input signature for the custom model.\n",
    "3. Validate the new raw training data in the TFX pipeline."
   ]
  },
  {
   "cell_type": "code",
   "execution_count": 60,
   "id": "4087d5fa",
   "metadata": {},
   "outputs": [],
   "source": [
    "stats = tfdv.generate_statistics_from_dataframe(\n",
    "    dataframe=sample_data,\n",
    "    stats_options=tfdv.StatsOptions(\n",
    "        label_feature='tip_bin',\n",
    "        weight_feature=None,\n",
    "        sample_rate=1,\n",
    "        num_top_values=50\n",
    "    )\n",
    ")"
   ]
  },
  {
   "cell_type": "code",
   "execution_count": 61,
   "id": "091fbd77",
   "metadata": {},
   "outputs": [
    {
     "data": {
      "text/html": [
       "<iframe id='facets-iframe' width=\"100%\" height=\"500px\"></iframe>\n",
       "        <script>\n",
       "        facets_iframe = document.getElementById('facets-iframe');\n",
       "        facets_html = '<script src=\"https://cdnjs.cloudflare.com/ajax/libs/webcomponentsjs/1.3.3/webcomponents-lite.js\"><\\/script><link rel=\"import\" href=\"https://raw.githubusercontent.com/PAIR-code/facets/master/facets-dist/facets-jupyter.html\"><facets-overview proto-input=\"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\"></facets-overview>';\n",
       "        facets_iframe.srcdoc = facets_html;\n",
       "         facets_iframe.id = \"\";\n",
       "         setTimeout(() => {\n",
       "           facets_iframe.setAttribute('height', facets_iframe.contentWindow.document.body.offsetHeight + 'px')\n",
       "         }, 1500)\n",
       "         </script>"
      ],
      "text/plain": [
       "<IPython.core.display.HTML object>"
      ]
     },
     "metadata": {},
     "output_type": "display_data"
    }
   ],
   "source": [
    "tfdv.visualize_statistics(stats)"
   ]
  },
  {
   "cell_type": "code",
   "execution_count": 62,
   "id": "d251e09b",
   "metadata": {},
   "outputs": [
    {
     "data": {
      "text/html": [
       "<div>\n",
       "<style scoped>\n",
       "    .dataframe tbody tr th:only-of-type {\n",
       "        vertical-align: middle;\n",
       "    }\n",
       "\n",
       "    .dataframe tbody tr th {\n",
       "        vertical-align: top;\n",
       "    }\n",
       "\n",
       "    .dataframe thead th {\n",
       "        text-align: right;\n",
       "    }\n",
       "</style>\n",
       "<table border=\"1\" class=\"dataframe\">\n",
       "  <thead>\n",
       "    <tr style=\"text-align: right;\">\n",
       "      <th></th>\n",
       "      <th>Type</th>\n",
       "      <th>Presence</th>\n",
       "      <th>Valency</th>\n",
       "      <th>Domain</th>\n",
       "    </tr>\n",
       "    <tr>\n",
       "      <th>Feature name</th>\n",
       "      <th></th>\n",
       "      <th></th>\n",
       "      <th></th>\n",
       "      <th></th>\n",
       "    </tr>\n",
       "  </thead>\n",
       "  <tbody>\n",
       "    <tr>\n",
       "      <th>'trip_month'</th>\n",
       "      <td>INT</td>\n",
       "      <td>required</td>\n",
       "      <td></td>\n",
       "      <td>-</td>\n",
       "    </tr>\n",
       "    <tr>\n",
       "      <th>'trip_day'</th>\n",
       "      <td>INT</td>\n",
       "      <td>required</td>\n",
       "      <td></td>\n",
       "      <td>-</td>\n",
       "    </tr>\n",
       "    <tr>\n",
       "      <th>'trip_day_of_week'</th>\n",
       "      <td>INT</td>\n",
       "      <td>required</td>\n",
       "      <td></td>\n",
       "      <td>-</td>\n",
       "    </tr>\n",
       "    <tr>\n",
       "      <th>'trip_hour'</th>\n",
       "      <td>INT</td>\n",
       "      <td>required</td>\n",
       "      <td></td>\n",
       "      <td>-</td>\n",
       "    </tr>\n",
       "    <tr>\n",
       "      <th>'trip_seconds'</th>\n",
       "      <td>INT</td>\n",
       "      <td>required</td>\n",
       "      <td></td>\n",
       "      <td>-</td>\n",
       "    </tr>\n",
       "    <tr>\n",
       "      <th>'trip_miles'</th>\n",
       "      <td>FLOAT</td>\n",
       "      <td>required</td>\n",
       "      <td></td>\n",
       "      <td>-</td>\n",
       "    </tr>\n",
       "    <tr>\n",
       "      <th>'payment_type'</th>\n",
       "      <td>STRING</td>\n",
       "      <td>required</td>\n",
       "      <td></td>\n",
       "      <td>'payment_type'</td>\n",
       "    </tr>\n",
       "    <tr>\n",
       "      <th>'pickup_grid'</th>\n",
       "      <td>STRING</td>\n",
       "      <td>required</td>\n",
       "      <td></td>\n",
       "      <td>'pickup_grid'</td>\n",
       "    </tr>\n",
       "    <tr>\n",
       "      <th>'dropoff_grid'</th>\n",
       "      <td>STRING</td>\n",
       "      <td>required</td>\n",
       "      <td></td>\n",
       "      <td>'dropoff_grid'</td>\n",
       "    </tr>\n",
       "    <tr>\n",
       "      <th>'euclidean'</th>\n",
       "      <td>FLOAT</td>\n",
       "      <td>required</td>\n",
       "      <td></td>\n",
       "      <td>-</td>\n",
       "    </tr>\n",
       "    <tr>\n",
       "      <th>'loc_cross'</th>\n",
       "      <td>BYTES</td>\n",
       "      <td>required</td>\n",
       "      <td></td>\n",
       "      <td>-</td>\n",
       "    </tr>\n",
       "    <tr>\n",
       "      <th>'tip_bin'</th>\n",
       "      <td>INT</td>\n",
       "      <td>required</td>\n",
       "      <td></td>\n",
       "      <td>-</td>\n",
       "    </tr>\n",
       "  </tbody>\n",
       "</table>\n",
       "</div>"
      ],
      "text/plain": [
       "                      Type  Presence Valency          Domain\n",
       "Feature name                                                \n",
       "'trip_month'           INT  required                       -\n",
       "'trip_day'             INT  required                       -\n",
       "'trip_day_of_week'     INT  required                       -\n",
       "'trip_hour'            INT  required                       -\n",
       "'trip_seconds'         INT  required                       -\n",
       "'trip_miles'         FLOAT  required                       -\n",
       "'payment_type'      STRING  required          'payment_type'\n",
       "'pickup_grid'       STRING  required           'pickup_grid'\n",
       "'dropoff_grid'      STRING  required          'dropoff_grid'\n",
       "'euclidean'          FLOAT  required                       -\n",
       "'loc_cross'          BYTES  required                       -\n",
       "'tip_bin'              INT  required                       -"
      ]
     },
     "metadata": {},
     "output_type": "display_data"
    },
    {
     "data": {
      "text/html": [
       "<div>\n",
       "<style scoped>\n",
       "    .dataframe tbody tr th:only-of-type {\n",
       "        vertical-align: middle;\n",
       "    }\n",
       "\n",
       "    .dataframe tbody tr th {\n",
       "        vertical-align: top;\n",
       "    }\n",
       "\n",
       "    .dataframe thead th {\n",
       "        text-align: right;\n",
       "    }\n",
       "</style>\n",
       "<table border=\"1\" class=\"dataframe\">\n",
       "  <thead>\n",
       "    <tr style=\"text-align: right;\">\n",
       "      <th></th>\n",
       "      <th>Values</th>\n",
       "    </tr>\n",
       "    <tr>\n",
       "      <th>Domain</th>\n",
       "      <th></th>\n",
       "    </tr>\n",
       "  </thead>\n",
       "  <tbody>\n",
       "    <tr>\n",
       "      <th>'payment_type'</th>\n",
       "      <td>'Cash', 'Credit Card', 'Dispute', 'Mobile', 'No Charge', 'Prcard', 'Prepaid', 'Unknown'</td>\n",
       "    </tr>\n",
       "    <tr>\n",
       "      <th>'pickup_grid'</th>\n",
       "      <td>'POINT(-87.5 41.7)', 'POINT(-87.6 41.7)', 'POINT(-87.6 41.8)', 'POINT(-87.6 41.9)', 'POINT(-87.6 42)', 'POINT(-87.7 41.7)', 'POINT(-87.7 41.8)', 'POINT(-87.7 41.9)', 'POINT(-87.7 42)', 'POINT(-87.8 41.8)', 'POINT(-87.8 41.9)', 'POINT(-87.8 42)', 'POINT(-87.9 42)'</td>\n",
       "    </tr>\n",
       "    <tr>\n",
       "      <th>'dropoff_grid'</th>\n",
       "      <td>'POINT(-87.5 41.7)', 'POINT(-87.6 41.7)', 'POINT(-87.6 41.8)', 'POINT(-87.6 41.9)', 'POINT(-87.6 42)', 'POINT(-87.7 41.7)', 'POINT(-87.7 41.8)', 'POINT(-87.7 41.9)', 'POINT(-87.7 42)', 'POINT(-87.8 41.8)', 'POINT(-87.8 41.9)', 'POINT(-87.8 42)', 'POINT(-87.9 42)'</td>\n",
       "    </tr>\n",
       "  </tbody>\n",
       "</table>\n",
       "</div>"
      ],
      "text/plain": [
       "                                                                                                                                                                                                                                                                                 Values\n",
       "Domain                                                                                                                                                                                                                                                                                 \n",
       "'payment_type'                                                                                                                                                                                  'Cash', 'Credit Card', 'Dispute', 'Mobile', 'No Charge', 'Prcard', 'Prepaid', 'Unknown'\n",
       "'pickup_grid'   'POINT(-87.5 41.7)', 'POINT(-87.6 41.7)', 'POINT(-87.6 41.8)', 'POINT(-87.6 41.9)', 'POINT(-87.6 42)', 'POINT(-87.7 41.7)', 'POINT(-87.7 41.8)', 'POINT(-87.7 41.9)', 'POINT(-87.7 42)', 'POINT(-87.8 41.8)', 'POINT(-87.8 41.9)', 'POINT(-87.8 42)', 'POINT(-87.9 42)'\n",
       "'dropoff_grid'  'POINT(-87.5 41.7)', 'POINT(-87.6 41.7)', 'POINT(-87.6 41.8)', 'POINT(-87.6 41.9)', 'POINT(-87.6 42)', 'POINT(-87.7 41.7)', 'POINT(-87.7 41.8)', 'POINT(-87.7 41.9)', 'POINT(-87.7 42)', 'POINT(-87.8 41.8)', 'POINT(-87.8 41.9)', 'POINT(-87.8 42)', 'POINT(-87.9 42)'"
      ]
     },
     "metadata": {},
     "output_type": "display_data"
    }
   ],
   "source": [
    "schema = tfdv.infer_schema(statistics=stats)\n",
    "tfdv.display_schema(schema=schema)"
   ]
  },
  {
   "cell_type": "code",
   "execution_count": 65,
   "id": "502c49f1",
   "metadata": {},
   "outputs": [],
   "source": [
    "raw_schema_location = os.path.join(RAW_SCHEMA_DIR, 'schema.pbtxt')\n",
    "tfdv.write_schema_text(schema, raw_schema_location)"
   ]
  },
  {
   "cell_type": "markdown",
   "id": "59df0723",
   "metadata": {},
   "source": [
    "## 4. Create Vertex Dataset resource"
   ]
  },
  {
   "cell_type": "code",
   "execution_count": 70,
   "id": "90d9b605",
   "metadata": {},
   "outputs": [],
   "source": [
    "vertex_ai.init(\n",
    "    project=PROJECT,\n",
    "    location=REGION\n",
    ")"
   ]
  },
  {
   "cell_type": "markdown",
   "id": "464ab920",
   "metadata": {},
   "source": [
    "### Create the dataset resource"
   ]
  },
  {
   "cell_type": "code",
   "execution_count": 71,
   "id": "a0a1707a",
   "metadata": {},
   "outputs": [
    {
     "name": "stdout",
     "output_type": "stream",
     "text": [
      "Creating TabularDataset\n",
      "Create TabularDataset backing LRO: projects/751769062412/locations/us-west2/datasets/7630821802997972992/operations/1111145560309497856\n",
      "TabularDataset created. Resource name: projects/751769062412/locations/us-west2/datasets/7630821802997972992\n",
      "To use this TabularDataset in another session:\n",
      "ds = aiplatform.TabularDataset('projects/751769062412/locations/us-west2/datasets/7630821802997972992')\n"
     ]
    },
    {
     "data": {
      "text/plain": [
       "name: \"projects/751769062412/locations/us-west2/datasets/7630821802997972992\"\n",
       "display_name: \"chicago-taxi-tips\"\n",
       "metadata_schema_uri: \"gs://google-cloud-aiplatform/schema/dataset/metadata/tabular_1.0.0.yaml\"\n",
       "create_time {\n",
       "  seconds: 1710937814\n",
       "  nanos: 603466000\n",
       "}\n",
       "update_time {\n",
       "  seconds: 1710937828\n",
       "  nanos: 25180000\n",
       "}\n",
       "etag: \"AMEw9yOc-40ycILd5LlzFqjcGhUalc-7eEdVF39wsQnH576E7BDSFKbq5QHNyYWQY4s=\"\n",
       "metadata {\n",
       "  struct_value {\n",
       "    fields {\n",
       "      key: \"inputConfig\"\n",
       "      value {\n",
       "        struct_value {\n",
       "          fields {\n",
       "            key: \"bigquerySource\"\n",
       "            value {\n",
       "              struct_value {\n",
       "                fields {\n",
       "                  key: \"uri\"\n",
       "                  value {\n",
       "                    string_value: \"bq://prj-dev-mlct-flt-01-0a04.playground.taxi_trips\"\n",
       "                  }\n",
       "                }\n",
       "              }\n",
       "            }\n",
       "          }\n",
       "        }\n",
       "      }\n",
       "    }\n",
       "  }\n",
       "}\n",
       "metadata_artifact: \"projects/751769062412/locations/us-west2/metadataStores/default/artifacts/8558c1e9-4c9f-44b5-b013-71a2e8909d12\""
      ]
     },
     "execution_count": 71,
     "metadata": {},
     "output_type": "execute_result"
    }
   ],
   "source": [
    "bq_uri = f\"bq://{PROJECT}.{BQ_DATASET_NAME}.{BQ_TABLE_NAME}\"\n",
    "\n",
    "dataset = vertex_ai.TabularDataset.create(\n",
    "    display_name=DATASET_DISPLAY_NAME, bq_source=bq_uri)\n",
    "\n",
    "dataset.gca_resource"
   ]
  },
  {
   "cell_type": "markdown",
   "id": "c761fadb",
   "metadata": {},
   "source": [
    "### Get the dataset resource\n",
    "\n",
    "The dataset resource is retrieved by display name. Because multiple datasets can have the same display name, we retrieve the most recent updated one."
   ]
  },
  {
   "cell_type": "code",
   "execution_count": 72,
   "id": "d78b7f4d",
   "metadata": {},
   "outputs": [
    {
     "name": "stdout",
     "output_type": "stream",
     "text": [
      "Dataset resource name: projects/751769062412/locations/us-west2/datasets/7630821802997972992\n",
      "Dataset BigQuery source: bq://prj-dev-mlct-flt-01-0a04.playground.taxi_trips\n"
     ]
    }
   ],
   "source": [
    "dataset = vertex_ai.TabularDataset.list(\n",
    "    filter=f\"display_name={DATASET_DISPLAY_NAME}\", \n",
    "    order_by=\"update_time\")[-1]\n",
    "\n",
    "print(\"Dataset resource name:\", dataset.resource_name)\n",
    "print(\"Dataset BigQuery source:\", dataset.gca_resource.metadata['inputConfig']['bigquerySource']['uri'])"
   ]
  },
  {
   "cell_type": "code",
   "execution_count": null,
   "id": "569249de",
   "metadata": {},
   "outputs": [],
   "source": []
  }
 ],
 "metadata": {
  "environment": {
   "name": "common-cpu.m79",
   "type": "gcloud",
   "uri": "gcr.io/deeplearning-platform-release/base-cpu:m79"
  },
  "kernelspec": {
   "display_name": "Python 3",
   "language": "python",
   "name": "python3"
  },
  "language_info": {
   "codemirror_mode": {
    "name": "ipython",
    "version": 3
   },
   "file_extension": ".py",
   "mimetype": "text/x-python",
   "name": "python",
   "nbconvert_exporter": "python",
   "pygments_lexer": "ipython3",
   "version": "3.9.7"
  }
 },
 "nbformat": 4,
 "nbformat_minor": 5
}
